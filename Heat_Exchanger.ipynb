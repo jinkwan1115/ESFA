{
  "cells": [
    {
      "cell_type": "markdown",
      "id": "3c27b36a-4aeb-49f0-9ccb-bef4089ed7ab",
      "metadata": {
        "jp-MarkdownHeadingCollapsed": true,
        "tags": [],
        "id": "3c27b36a-4aeb-49f0-9ccb-bef4089ed7ab"
      },
      "source": [
        "# Header"
      ]
    },
    {
      "cell_type": "code",
      "execution_count": null,
      "id": "631a061f-ec65-4fde-9f29-2bc2301892a2",
      "metadata": {
        "id": "631a061f-ec65-4fde-9f29-2bc2301892a2"
      },
      "outputs": [],
      "source": [
        "import numpy as np\n",
        "from ipywidgets import widgets\n",
        "from Functions.Properties_Functions import * "
      ]
    },
    {
      "cell_type": "markdown",
      "id": "6d0448c0-b4c2-49c6-b58c-fc566fba2fe8",
      "metadata": {
        "jp-MarkdownHeadingCollapsed": true,
        "tags": [],
        "id": "6d0448c0-b4c2-49c6-b58c-fc566fba2fe8"
      },
      "source": [
        "# Equipment Functions"
      ]
    },
    {
      "cell_type": "code",
      "execution_count": null,
      "id": "ee69fc2f-51d5-4b75-8cb0-c00f4e4d1b17",
      "metadata": {
        "id": "ee69fc2f-51d5-4b75-8cb0-c00f4e4d1b17"
      },
      "outputs": [],
      "source": [
        "def Cal_Heat_Exchanger(z1,z2,P1,P2,T11,T12,T21,F1,F2):\n",
        "    # if stream2 is pure and there is a phase transition\n",
        "    Tsat2 = AB/(AA - np.log(P2/1.0e5)) - AC\n",
        "    Tsat2 = np.sum(Tsat2*z2)\n",
        "    # Heat capacity coeff. for mixture\n",
        "    MW_1 = np.sum(z1*MW)\n",
        "    HA_1 = np.sum(z1*MW/MW_1*HA)\n",
        "    HB_1 = np.sum(z1*MW/MW_1*HB)\n",
        "    HC_1 = np.sum(z1*MW/MW_1*HC)\n",
        "    HD_1 = np.sum(z1*MW/MW_1*HD)\n",
        "\n",
        "    MW_2 = np.sum(z2*MW)\n",
        "    HA_2 = np.sum(z2*MW/MW_2*HA)\n",
        "    HB_2 = np.sum(z2*MW/MW_2*HB)\n",
        "    HC_2 = np.sum(z2*MW/MW_2*HC)\n",
        "    HD_2 = np.sum(z2*MW/MW_2*HD)\n",
        "\n",
        "\n",
        "    T22 = T21\n",
        "    dh1 = cpdt(HA_1,HB_1,HC_1,HD_1,T11,T12) + hdep_Zval(z1,P1,T12) - hdep_Zval(z1,P1,T11)\n",
        "    dh2 = cpdt(HA_2,HB_2,HC_2,HD_2,T21,T22) + hdep_Zval(z2,P2,T22) - hdep_Zval(z2,P2,T21)\n",
        "    dH = dh1*F1 + dh2*F2\n",
        "    T0 = T22\n",
        "    dH0 = dH\n",
        "\n",
        "    T22 = T22 + (T12 - T21)\n",
        "    dh2 = cpdt(HA_2,HB_2,HC_2,HD_2,T21,T22) + hdep_Zval(z2,P2,T22) - hdep_Zval(z2,P2,T21)\n",
        "    dH = dh1*F1 + dh2*F2\n",
        "\n",
        "    while abs(dH) > 1.0:\n",
        "\n",
        "      T00 = T22\n",
        "      T22 = T22 - dH/((dH-dH0)/(T22-T0))\n",
        "      dH0 = dH\n",
        "      T0 = T00\n",
        "\n",
        "      #T22 = T22 + (T12 - T21)*1.0e-3\n",
        "\n",
        "      dh2 = cpdt(HA_2,HB_2,HC_2,HD_2,T21,T22) + hdep_Zval(z2,P2,T22) - hdep_Zval(z2,P2,T21)\n",
        "      dH = dh1*F1 + dh2*F2\n",
        "\n",
        "\n",
        "    print('( Q1 =',np.round(F1*dh1,4),', Q2 =',np.round(F2*dh2,4),')')\n",
        "    print('T22 =',np.round(T22 - 273.15,4),'℃')\n",
        "    \n",
        "    return np.round(T22 - 273.15,4),np.round(F1*dh1,4),np.round(F2*dh2,4)"
      ]
    },
    {
      "cell_type": "code",
      "execution_count": null,
      "id": "4516a4b9-9977-42b5-b45d-da38b7c9eb9f",
      "metadata": {
        "id": "4516a4b9-9977-42b5-b45d-da38b7c9eb9f",
        "outputId": "4f01cfc8-d41d-475d-fe56-a1b1f922d3c4"
      },
      "outputs": [
        {
          "name": "stdout",
          "output_type": "stream",
          "text": [
            "( Q1 = 48767.1178 , Q2 = -48767.1172 )\n",
            "T22 = -209.3674 ℃\n"
          ]
        },
        {
          "data": {
            "text/plain": [
              "(-209.3674, 48767.1178, -48767.1172)"
            ]
          },
          "execution_count": 3,
          "metadata": {},
          "output_type": "execute_result"
        }
      ],
      "source": [
        "T22,Q1,Q2 = Cal_Heat_Exchanger(np.array([0.0, 0.5, 0.3, 0.2, 0.0]),np.array([0.5, 0.5, 0.0, 0.0, 0.0]),1.0e5,1.0e5,-70 + 273.15,-20 + 273.15,-200 + 273.15,20,100)\n",
        "T22,Q1,Q2"
      ]
    },
    {
      "cell_type": "markdown",
      "id": "4efbc5c3-d24e-4604-9527-c150705c5a62",
      "metadata": {
        "jp-MarkdownHeadingCollapsed": true,
        "tags": [],
        "id": "4efbc5c3-d24e-4604-9527-c150705c5a62"
      },
      "source": [
        "# Test"
      ]
    },
    {
      "cell_type": "code",
      "execution_count": null,
      "id": "318bcd52-ddf8-4d79-a1e8-63a246dacad9",
      "metadata": {
        "id": "318bcd52-ddf8-4d79-a1e8-63a246dacad9",
        "outputId": "8e400703-0594-4c3f-e15f-484507429042"
      },
      "outputs": [
        {
          "name": "stdout",
          "output_type": "stream",
          "text": [
            "( Q1 = 48767.1178 , Q2 = -48767.1172 )\n",
            "T22 = -209.3674 ℃\n"
          ]
        }
      ],
      "source": [
        "# N2, C1, C2, C3, C4\n",
        "z1 = np.array([0.0, 0.5, 0.3, 0.2, 0.0])\n",
        "z2 = np.array([0.5, 0.5, 0.0, 0.0, 0.0])\n",
        "P1 = 1.0e5\n",
        "P2 = 1.0e5\n",
        "T11 = -70 + 273.15\n",
        "T12 = -20 + 273.15\n",
        "T21 = -200 + 273.15\n",
        "F1 = 20\n",
        "F2 = 100\n",
        "T22,Q1,Q2 = Cal_Heat_Exchanger(z1,z2,P1,P2,T11,T12,T21,F1,F2)"
      ]
    },
    {
      "cell_type": "markdown",
      "id": "87b43c50-f098-4641-855b-5be17f91f731",
      "metadata": {
        "jp-MarkdownHeadingCollapsed": true,
        "tags": [],
        "id": "87b43c50-f098-4641-855b-5be17f91f731"
      },
      "source": [
        "# Widget"
      ]
    },
    {
      "cell_type": "code",
      "execution_count": null,
      "id": "b16b2fd7-7d76-4ff5-a88e-f41678f12e1f",
      "metadata": {
        "id": "b16b2fd7-7d76-4ff5-a88e-f41678f12e1f"
      },
      "outputs": [],
      "source": [
        "Label1_1 = widgets.Label(\"Composition1_Input1\")\n",
        "wComp1_1 = widgets.BoundedFloatText(\n",
        "    value=0.0,\n",
        "    min=0,\n",
        "    max=1.0,\n",
        "    step=0.1,\n",
        "    description='N2:',\n",
        "    disabled=False\n",
        ")\n",
        "wComp2_1 = widgets.BoundedFloatText(\n",
        "    value=0.5,\n",
        "    min=0,\n",
        "    max=1.0,\n",
        "    step=0.1,\n",
        "    description='C1:',\n",
        "    disabled=False\n",
        ")\n",
        "wComp3_1 = widgets.BoundedFloatText(\n",
        "    value=0.3,\n",
        "    min=0,\n",
        "    max=1.0,\n",
        "    step=0.1,\n",
        "    description='C2:',\n",
        "    disabled=False\n",
        ")\n",
        "wComp4_1 = widgets.BoundedFloatText(\n",
        "    value=0.2,\n",
        "    min=0,\n",
        "    max=1.0,\n",
        "    step=0.1,\n",
        "    description='C3:',\n",
        "    disabled=False\n",
        ")\n",
        "wComp5_1 = widgets.BoundedFloatText(\n",
        "    value=0.0,\n",
        "    min=0,\n",
        "    max=1.0,\n",
        "    step=0.1,\n",
        "    description='C4:',\n",
        "    disabled=False\n",
        ")\n",
        "\n",
        "#wCompSum_1 = widgets.BoundedFloatText(\n",
        "#    value=wComp1.value+wComp2.value+wComp3.value+wComp4.value+wComp5.value,\n",
        "#    min=0,\n",
        "#    max=1.0,\n",
        "#    step=0.1,\n",
        "#    description='SUM:',\n",
        "#    disabled=False\n",
        "#)\n",
        "\n",
        "Label1_2 = widgets.Label(\"Composition2_input2\")\n",
        "\n",
        "wComp1_2 = widgets.BoundedFloatText(\n",
        "    value=0.5,\n",
        "    min=0,\n",
        "    max=1.0,\n",
        "    step=0.1,\n",
        "    description='N2:',\n",
        "    disabled=False\n",
        ")\n",
        "wComp2_2 = widgets.BoundedFloatText(\n",
        "    value=0.5,\n",
        "    min=0,\n",
        "    max=1.0,\n",
        "    step=0.1,\n",
        "    description='C1:',\n",
        "    disabled=False\n",
        ")\n",
        "wComp3_2 = widgets.BoundedFloatText(\n",
        "    value=0.0,\n",
        "    min=0,\n",
        "    max=1.0,\n",
        "    step=0.1,\n",
        "    description='C2:',\n",
        "    disabled=False\n",
        ")\n",
        "wComp4_2 = widgets.BoundedFloatText(\n",
        "    value=0.0,\n",
        "    min=0,\n",
        "    max=1.0,\n",
        "    step=0.1,\n",
        "    description='C3:',\n",
        "    disabled=False\n",
        ")\n",
        "wComp5_2 = widgets.BoundedFloatText(\n",
        "    value=0.0,\n",
        "    min=0,\n",
        "    max=1.0,\n",
        "    step=0.1,\n",
        "    description='C4:',\n",
        "    disabled=False\n",
        ")\n",
        "\n",
        "#wCompSum_2 = widgets.BoundedFloatText(\n",
        "#    value=wComp1.value+wComp2.value+wComp3.value+wComp4.value+wComp5.value,\n",
        "#    min=0,\n",
        "#    max=1.0,\n",
        "#    step=0.1,\n",
        "#    description='SUM:',\n",
        "#    disabled=False\n",
        "#)\n",
        "\n",
        "Label2_1 = widgets.Label(\"Input_1\")\n",
        "\n",
        "wInputPressure_1 = widgets.BoundedFloatText(\n",
        "    value=1,\n",
        "    min=0,\n",
        "    max=300.0,\n",
        "    step=0.1,\n",
        "    description='P1 (bar) :',\n",
        "    disabled=False\n",
        ")\n",
        "\n",
        "wInputTemperature_1 = widgets.BoundedFloatText(\n",
        "    value=-70,\n",
        "    min=-500,\n",
        "    max=500.0,\n",
        "    step=0.1,\n",
        "    description='T1_IN (C) :',\n",
        "    disabled=False\n",
        ")\n",
        "\n",
        "wOutTemperature_1 = widgets.BoundedFloatText(\n",
        "    value=-20,\n",
        "    min=-500,\n",
        "    max=500.0,\n",
        "    step=0.1,\n",
        "    description='T1_OUT (C) :',\n",
        "    disabled=False\n",
        ")\n",
        "\n",
        "wInputFlow_1 = widgets.BoundedFloatText(\n",
        "    value=20,\n",
        "    min=-100000,\n",
        "    max=100000,\n",
        "    step=0.1,\n",
        "    description='F1_IN :',\n",
        "    disabled=False\n",
        ")\n",
        "\n",
        "Label2_2 = widgets.Label(\"Input_2\")\n",
        "\n",
        "wInputPressure_2 = widgets.BoundedFloatText(\n",
        "    value=1,\n",
        "    min=0,\n",
        "    max=300.0,\n",
        "    step=0.1,\n",
        "    description='P1 (bar) :',\n",
        "    disabled=False\n",
        ")\n",
        "\n",
        "wInputTemperature_2 = widgets.BoundedFloatText(\n",
        "    value=-200,\n",
        "    min=-500,\n",
        "    max=500.0,\n",
        "    step=0.1,\n",
        "    description='T2_IN (C) :',\n",
        "    disabled=False\n",
        ")\n",
        "\n",
        "wInputFlow_2 = widgets.BoundedFloatText(\n",
        "    value=100,\n",
        "    min=-100000,\n",
        "    max=100000,\n",
        "    step=0.1,\n",
        "    description='F2_IN :',\n",
        "    disabled=False\n",
        ")\n",
        "\n",
        "\n",
        "############################################\n",
        "\n",
        "Label3 = widgets.Label(\"< ### Result ### >\")\n",
        "\n",
        "wOutputTemperature_2 = widgets.BoundedFloatText(\n",
        "    value=0,\n",
        "    min=-500,\n",
        "    max=500.0,\n",
        "    step=0.1,\n",
        "    description='T2_OUT (C) :',\n",
        "    disabled=False\n",
        ")\n",
        "\n",
        "wOutputEnergy_1 = widgets.BoundedFloatText(\n",
        "    value=0,\n",
        "    min=-1000000,\n",
        "    max=1000000,\n",
        "    step=0.1,\n",
        "    description='Q1 :',\n",
        "    disabled=False\n",
        ")\n",
        "\n",
        "wOutputEnergy_2 = widgets.BoundedFloatText(\n",
        "    value=0,\n",
        "    min=-1000000,\n",
        "    max=1000000,\n",
        "    step=0.1,\n",
        "    description='Q2 :',\n",
        "    disabled=False\n",
        ")\n",
        "\n",
        "btn = widgets.Button(description = \"Calculate\")\n",
        "lbl3 = widgets.Label()\n",
        "\n",
        "def Calculate_HE(a):\n",
        "    z1 = np.array([wComp1_1.value,wComp2_1.value,wComp3_1.value,wComp4_1.value,wComp5_1.value])\n",
        "    z2 = np.array([wComp1_2.value,wComp2_2.value,wComp3_2.value,wComp4_2.value,wComp5_2.value])\n",
        "    P1 = wInputPressure_1.value * 1e5\n",
        "    P2 = wInputPressure_2.value * 1e5\n",
        "    T1_IN = wInputTemperature_1.value + 273.15\n",
        "    T1_OUT = wOutTemperature_1.value + 273.15\n",
        "    T2_IN = wInputTemperature_2.value + 273.15\n",
        "    F1 = wInputFlow_1.value\n",
        "    F2 = wInputFlow_2.value\n",
        "    \n",
        "    T2_OUT , Q1 , Q2 = Cal_Heat_Exchanger(z1,z2,P1,P2,T1_IN,T1_OUT,T2_IN,F1,F2)\n",
        "    wOutputTemperature_2.value = T2_OUT\n",
        "    wOutputEnergy_1.value = Q1\n",
        "    wOutputEnergy_2.value = Q2"
      ]
    },
    {
      "cell_type": "markdown",
      "id": "afe18f3c-b8c4-41c7-9c65-3330e8893a97",
      "metadata": {
        "tags": [],
        "id": "afe18f3c-b8c4-41c7-9c65-3330e8893a97"
      },
      "source": [
        "# Heat Exchanger"
      ]
    },
    {
      "cell_type": "code",
      "execution_count": null,
      "id": "63fa117a-5a7e-411d-9f37-6db9c89662b7",
      "metadata": {
        "jupyter": {
          "source_hidden": true
        },
        "tags": [],
        "colab": {
          "referenced_widgets": [
            "9be4900b742f44a69853fe474e1f5d25",
            "f330e826b21248dbbe2a9283925fa3ae",
            "18cd3b89f0194585a8056e22e9d6dcf4",
            "bca09184a6a1460398179cf60cfcab61",
            "22ab8a5f2c9748068556697e157d6ea3",
            "7894eea813044d2f828fb107395fa6d3",
            "ed9a4e4c4d2e4745aa6ad77668cb6b8d",
            "480a2e7e35674a7cbb0e672e7d684afc",
            "fb8dc4f59a7c42f78e87af86aa5ec00d",
            "089775a722774e7c9b6acceb2d011a8b",
            "0ea460f203a4455d88a45d0cc22f435a",
            "0ed9c8f0921c4dd290cd5c75d34d430e",
            "57acfd0d85084ab8966727da127a5280",
            "f65626cc1b6b4c96891a2809a89ce7d4",
            "e387c0d72dce419b82527b542d232835",
            "356b5a372f1d441ea4100b6501ed5cbc",
            "d1336c9ec43c4ea6b6f7f60c25e93659",
            "cc846f369c644c57bab99cdb06a491a9",
            "707ca106c3a5493ba8de2de5a1041d6c",
            "a921e9df78b6453cb8f0ea4b78eef771",
            "89fd83d4e3a84cb58deaf59401fd3a46",
            "bb67a7c8f3d04c928808c7f609c89ff4",
            "b3a03c575b764b8f90f1056e0fddce19",
            "915ebbd696f04cd19117aaf92afaeb99",
            "2a322447b8fd4dbc8158662436d18800",
            "4a03c6d162a7426ba14a5787b49209a8",
            "93848e8cbf4944478c6ba4e9691ffc73"
          ]
        },
        "id": "63fa117a-5a7e-411d-9f37-6db9c89662b7",
        "outputId": "8aad5b63-4cea-42d8-c72a-c232186ac4fe"
      },
      "outputs": [
        {
          "data": {
            "application/vnd.jupyter.widget-view+json": {
              "model_id": "9be4900b742f44a69853fe474e1f5d25",
              "version_major": 2,
              "version_minor": 0
            },
            "text/plain": [
              "Label(value='### Heat Exchanger Calculation ###')"
            ]
          },
          "metadata": {},
          "output_type": "display_data"
        },
        {
          "data": {
            "application/vnd.jupyter.widget-view+json": {
              "model_id": "f330e826b21248dbbe2a9283925fa3ae",
              "version_major": 2,
              "version_minor": 0
            },
            "text/plain": [
              "Label(value='Composition1_Input1')"
            ]
          },
          "metadata": {},
          "output_type": "display_data"
        },
        {
          "data": {
            "application/vnd.jupyter.widget-view+json": {
              "model_id": "18cd3b89f0194585a8056e22e9d6dcf4",
              "version_major": 2,
              "version_minor": 0
            },
            "text/plain": [
              "BoundedFloatText(value=0.0, description='N2:', max=1.0, step=0.1)"
            ]
          },
          "metadata": {},
          "output_type": "display_data"
        },
        {
          "data": {
            "application/vnd.jupyter.widget-view+json": {
              "model_id": "bca09184a6a1460398179cf60cfcab61",
              "version_major": 2,
              "version_minor": 0
            },
            "text/plain": [
              "BoundedFloatText(value=0.5, description='C1:', max=1.0, step=0.1)"
            ]
          },
          "metadata": {},
          "output_type": "display_data"
        },
        {
          "data": {
            "application/vnd.jupyter.widget-view+json": {
              "model_id": "22ab8a5f2c9748068556697e157d6ea3",
              "version_major": 2,
              "version_minor": 0
            },
            "text/plain": [
              "BoundedFloatText(value=0.3, description='C2:', max=1.0, step=0.1)"
            ]
          },
          "metadata": {},
          "output_type": "display_data"
        },
        {
          "data": {
            "application/vnd.jupyter.widget-view+json": {
              "model_id": "7894eea813044d2f828fb107395fa6d3",
              "version_major": 2,
              "version_minor": 0
            },
            "text/plain": [
              "BoundedFloatText(value=0.2, description='C3:', max=1.0, step=0.1)"
            ]
          },
          "metadata": {},
          "output_type": "display_data"
        },
        {
          "data": {
            "application/vnd.jupyter.widget-view+json": {
              "model_id": "ed9a4e4c4d2e4745aa6ad77668cb6b8d",
              "version_major": 2,
              "version_minor": 0
            },
            "text/plain": [
              "BoundedFloatText(value=0.0, description='C4:', max=1.0, step=0.1)"
            ]
          },
          "metadata": {},
          "output_type": "display_data"
        },
        {
          "data": {
            "application/vnd.jupyter.widget-view+json": {
              "model_id": "480a2e7e35674a7cbb0e672e7d684afc",
              "version_major": 2,
              "version_minor": 0
            },
            "text/plain": [
              "Label(value='Composition2_input2')"
            ]
          },
          "metadata": {},
          "output_type": "display_data"
        },
        {
          "data": {
            "application/vnd.jupyter.widget-view+json": {
              "model_id": "fb8dc4f59a7c42f78e87af86aa5ec00d",
              "version_major": 2,
              "version_minor": 0
            },
            "text/plain": [
              "BoundedFloatText(value=0.5, description='N2:', max=1.0, step=0.1)"
            ]
          },
          "metadata": {},
          "output_type": "display_data"
        },
        {
          "data": {
            "application/vnd.jupyter.widget-view+json": {
              "model_id": "089775a722774e7c9b6acceb2d011a8b",
              "version_major": 2,
              "version_minor": 0
            },
            "text/plain": [
              "BoundedFloatText(value=0.5, description='C1:', max=1.0, step=0.1)"
            ]
          },
          "metadata": {},
          "output_type": "display_data"
        },
        {
          "data": {
            "application/vnd.jupyter.widget-view+json": {
              "model_id": "0ea460f203a4455d88a45d0cc22f435a",
              "version_major": 2,
              "version_minor": 0
            },
            "text/plain": [
              "BoundedFloatText(value=0.0, description='C2:', max=1.0, step=0.1)"
            ]
          },
          "metadata": {},
          "output_type": "display_data"
        },
        {
          "data": {
            "application/vnd.jupyter.widget-view+json": {
              "model_id": "0ed9c8f0921c4dd290cd5c75d34d430e",
              "version_major": 2,
              "version_minor": 0
            },
            "text/plain": [
              "BoundedFloatText(value=0.0, description='C3:', max=1.0, step=0.1)"
            ]
          },
          "metadata": {},
          "output_type": "display_data"
        },
        {
          "data": {
            "application/vnd.jupyter.widget-view+json": {
              "model_id": "57acfd0d85084ab8966727da127a5280",
              "version_major": 2,
              "version_minor": 0
            },
            "text/plain": [
              "BoundedFloatText(value=0.0, description='C4:', max=1.0, step=0.1)"
            ]
          },
          "metadata": {},
          "output_type": "display_data"
        },
        {
          "data": {
            "application/vnd.jupyter.widget-view+json": {
              "model_id": "f65626cc1b6b4c96891a2809a89ce7d4",
              "version_major": 2,
              "version_minor": 0
            },
            "text/plain": [
              "Label(value='Input_1')"
            ]
          },
          "metadata": {},
          "output_type": "display_data"
        },
        {
          "data": {
            "application/vnd.jupyter.widget-view+json": {
              "model_id": "e387c0d72dce419b82527b542d232835",
              "version_major": 2,
              "version_minor": 0
            },
            "text/plain": [
              "BoundedFloatText(value=1.0, description='P1 (bar) :', max=300.0, step=0.1)"
            ]
          },
          "metadata": {},
          "output_type": "display_data"
        },
        {
          "data": {
            "application/vnd.jupyter.widget-view+json": {
              "model_id": "356b5a372f1d441ea4100b6501ed5cbc",
              "version_major": 2,
              "version_minor": 0
            },
            "text/plain": [
              "BoundedFloatText(value=-70.0, description='T1_IN (C) :', max=500.0, min=-500.0, step=0.1)"
            ]
          },
          "metadata": {},
          "output_type": "display_data"
        },
        {
          "data": {
            "application/vnd.jupyter.widget-view+json": {
              "model_id": "d1336c9ec43c4ea6b6f7f60c25e93659",
              "version_major": 2,
              "version_minor": 0
            },
            "text/plain": [
              "BoundedFloatText(value=-20.0, description='T1_OUT (C) :', max=500.0, min=-500.0, step=0.1)"
            ]
          },
          "metadata": {},
          "output_type": "display_data"
        },
        {
          "data": {
            "application/vnd.jupyter.widget-view+json": {
              "model_id": "cc846f369c644c57bab99cdb06a491a9",
              "version_major": 2,
              "version_minor": 0
            },
            "text/plain": [
              "BoundedFloatText(value=20.0, description='F1_IN :', max=100000.0, min=-100000.0, step=0.1)"
            ]
          },
          "metadata": {},
          "output_type": "display_data"
        },
        {
          "data": {
            "application/vnd.jupyter.widget-view+json": {
              "model_id": "707ca106c3a5493ba8de2de5a1041d6c",
              "version_major": 2,
              "version_minor": 0
            },
            "text/plain": [
              "Label(value='Input_2')"
            ]
          },
          "metadata": {},
          "output_type": "display_data"
        },
        {
          "data": {
            "application/vnd.jupyter.widget-view+json": {
              "model_id": "a921e9df78b6453cb8f0ea4b78eef771",
              "version_major": 2,
              "version_minor": 0
            },
            "text/plain": [
              "BoundedFloatText(value=1.0, description='P1 (bar) :', max=300.0, step=0.1)"
            ]
          },
          "metadata": {},
          "output_type": "display_data"
        },
        {
          "data": {
            "application/vnd.jupyter.widget-view+json": {
              "model_id": "89fd83d4e3a84cb58deaf59401fd3a46",
              "version_major": 2,
              "version_minor": 0
            },
            "text/plain": [
              "BoundedFloatText(value=-200.0, description='T2_IN (C) :', max=500.0, min=-500.0, step=0.1)"
            ]
          },
          "metadata": {},
          "output_type": "display_data"
        },
        {
          "data": {
            "application/vnd.jupyter.widget-view+json": {
              "model_id": "bb67a7c8f3d04c928808c7f609c89ff4",
              "version_major": 2,
              "version_minor": 0
            },
            "text/plain": [
              "BoundedFloatText(value=100.0, description='F2_IN :', max=100000.0, min=-100000.0, step=0.1)"
            ]
          },
          "metadata": {},
          "output_type": "display_data"
        },
        {
          "data": {
            "application/vnd.jupyter.widget-view+json": {
              "model_id": "b3a03c575b764b8f90f1056e0fddce19",
              "version_major": 2,
              "version_minor": 0
            },
            "text/plain": [
              "Button(description='Calculate', style=ButtonStyle())"
            ]
          },
          "metadata": {},
          "output_type": "display_data"
        },
        {
          "data": {
            "application/vnd.jupyter.widget-view+json": {
              "model_id": "915ebbd696f04cd19117aaf92afaeb99",
              "version_major": 2,
              "version_minor": 0
            },
            "text/plain": [
              "Label(value='< ### Result ### >')"
            ]
          },
          "metadata": {},
          "output_type": "display_data"
        },
        {
          "data": {
            "application/vnd.jupyter.widget-view+json": {
              "model_id": "2a322447b8fd4dbc8158662436d18800",
              "version_major": 2,
              "version_minor": 0
            },
            "text/plain": [
              "BoundedFloatText(value=0.0, description='T2_OUT (C) :', max=500.0, min=-500.0, step=0.1)"
            ]
          },
          "metadata": {},
          "output_type": "display_data"
        },
        {
          "data": {
            "application/vnd.jupyter.widget-view+json": {
              "model_id": "4a03c6d162a7426ba14a5787b49209a8",
              "version_major": 2,
              "version_minor": 0
            },
            "text/plain": [
              "BoundedFloatText(value=0.0, description='Q1 :', max=1000000.0, min=-1000000.0, step=0.1)"
            ]
          },
          "metadata": {},
          "output_type": "display_data"
        },
        {
          "data": {
            "application/vnd.jupyter.widget-view+json": {
              "model_id": "93848e8cbf4944478c6ba4e9691ffc73",
              "version_major": 2,
              "version_minor": 0
            },
            "text/plain": [
              "BoundedFloatText(value=0.0, description='Q2 :', max=1000000.0, min=-1000000.0, step=0.1)"
            ]
          },
          "metadata": {},
          "output_type": "display_data"
        }
      ],
      "source": [
        "display(widgets.Label(\"### Heat Exchanger Calculation ###\"))\n",
        "display(Label1_1,wComp1_1,wComp2_1,wComp3_1,wComp4_1,wComp5_1)\n",
        "display(Label1_2,wComp1_2,wComp2_2,wComp3_2,wComp4_2,wComp5_2)\n",
        "display(Label2_1,wInputPressure_1,wInputTemperature_1,wOutTemperature_1,wInputFlow_1)\n",
        "display(Label2_2,wInputPressure_2,wInputTemperature_2,wInputFlow_2)\n",
        "display(btn)\n",
        "display(Label3,wOutputTemperature_2,wOutputEnergy_1,wOutputEnergy_2)\n",
        "btn.on_click(Calculate_HE)"
      ]
    }
  ],
  "metadata": {
    "interpreter": {
      "hash": "fb4569285eef3a3450cb62085a5b1e0da4bce0af555edc33dcf29baf3acc1368"
    },
    "kernelspec": {
      "display_name": "Python 3.10.3 64-bit",
      "language": "python",
      "name": "python3"
    },
    "language_info": {
      "codemirror_mode": {
        "name": "ipython",
        "version": 3
      },
      "file_extension": ".py",
      "mimetype": "text/x-python",
      "name": "python",
      "nbconvert_exporter": "python",
      "pygments_lexer": "ipython3",
      "version": "3.10.3"
    },
    "colab": {
      "provenance": [],
      "collapsed_sections": []
    }
  },
  "nbformat": 4,
  "nbformat_minor": 5
}