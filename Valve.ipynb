{
  "cells": [
    {
      "cell_type": "markdown",
      "id": "3c27b36a-4aeb-49f0-9ccb-bef4089ed7ab",
      "metadata": {
        "jp-MarkdownHeadingCollapsed": true,
        "tags": [],
        "id": "3c27b36a-4aeb-49f0-9ccb-bef4089ed7ab"
      },
      "source": [
        "# Header"
      ]
    },
    {
      "cell_type": "code",
      "execution_count": null,
      "id": "631a061f-ec65-4fde-9f29-2bc2301892a2",
      "metadata": {
        "id": "631a061f-ec65-4fde-9f29-2bc2301892a2"
      },
      "outputs": [],
      "source": [
        "import numpy as np\n",
        "from ipywidgets import widgets\n",
        "from Functions.Properties_Functions import * "
      ]
    },
    {
      "cell_type": "markdown",
      "id": "6d0448c0-b4c2-49c6-b58c-fc566fba2fe8",
      "metadata": {
        "jp-MarkdownHeadingCollapsed": true,
        "tags": [],
        "id": "6d0448c0-b4c2-49c6-b58c-fc566fba2fe8"
      },
      "source": [
        "# Equipment Functions"
      ]
    },
    {
      "cell_type": "code",
      "execution_count": null,
      "id": "23307ad6-ae06-4bd6-9a7f-26bc465f476e",
      "metadata": {
        "id": "23307ad6-ae06-4bd6-9a7f-26bc465f476e"
      },
      "outputs": [],
      "source": [
        "def Cal_Valve(z,P1,T1,P2):\n",
        "    # # N2, C1, C2, C3, C4\n",
        "    # z = np.array([0.1, 0.4, 0.3, 0.0, 0.2])\n",
        "    # P1 = 10.0e5\n",
        "    # T1 = -150 + 273.15\n",
        "    # P2 = 1.0e5\n",
        "\n",
        "    # Heat capacity coeff. for mixture\n",
        "    MW_ = np.sum(z * MW)\n",
        "    HA_ = np.sum(z * MW / MW_ * HA)\n",
        "    HB_ = np.sum(z * MW / MW_ * HB)\n",
        "    HC_ = np.sum(z * MW / MW_ * HC)\n",
        "    HD_ = np.sum(z * MW / MW_ * HD)\n",
        "\n",
        "    Fr = 0\n",
        "    \n",
        "    hdep1 = hdep_Zval(z, P1, T1)\n",
        "\n",
        "    T2 = T1\n",
        "    hdep2 = hdep_Zval(z, P2, T2)\n",
        "    dh = cpdt(HA_, HB_, HC_, HD_, T1, T2) + hdep2 - hdep1\n",
        "    T0 = T2\n",
        "    dh0 = dh\n",
        "\n",
        "    T2 = T1 - 100\n",
        "    hdep2 = hdep_Zval(z, P2, T2)\n",
        "    dh = cpdt(HA_, HB_, HC_, HD_, T1, T2) + hdep2 - hdep1\n",
        "    \n",
        "    while abs(dh) > 1.0e-5:\n",
        "        T00 = T2\n",
        "        T2 = T2 - dh / ((dh - dh0) / (T2 - T0))\n",
        "        dh0 = dh\n",
        "        T0 = T00\n",
        "        # T2 = T2-0.01\n",
        "\n",
        "        hdep2, Fr = hdep_Zval_Valve(z, P2, T2)\n",
        "        dh = cpdt(HA_, HB_, HC_, HD_, T1, T2) + hdep2 - hdep1\n",
        "    \n",
        "    print('T2 =', np.round(T2 - 273.15, 4), '℃')\n",
        "\n",
        "    return np.round(T2 - 273.15, 4),np.round(Fr*100.0,2)"
      ]
    },
    {
      "cell_type": "markdown",
      "id": "3062a351-ef3b-49d9-a56e-5fba800541d1",
      "metadata": {
        "jp-MarkdownHeadingCollapsed": true,
        "tags": [],
        "id": "3062a351-ef3b-49d9-a56e-5fba800541d1"
      },
      "source": [
        "# TEST "
      ]
    },
    {
      "cell_type": "code",
      "execution_count": null,
      "id": "8000b46e-bff9-43c3-a202-1e5f3db91f56",
      "metadata": {
        "id": "8000b46e-bff9-43c3-a202-1e5f3db91f56",
        "outputId": "1f5180db-1ab1-44f4-d383-f2a4baa45c65"
      },
      "outputs": [
        {
          "name": "stdout",
          "output_type": "stream",
          "text": [
            "T2 = -160.442 ℃\n",
            "T2 = -160.442 ℃ 12.32\n"
          ]
        },
        {
          "name": "stderr",
          "output_type": "stream",
          "text": [
            "c:\\Users\\user\\Desktop\\아카이브\\Functions\\Properties_Functions.py:124: RuntimeWarning: overflow encountered in exp\n",
            "  Psat = np.exp(AA - AB / (T + AC)) * 1.0e5\n",
            "c:\\Users\\user\\Desktop\\아카이브\\Functions\\Properties_Functions.py:162: RuntimeWarning: invalid value encountered in multiply\n",
            "  Psatl = np.sum(z * Psat)\n"
          ]
        }
      ],
      "source": [
        "### VALVE\n",
        "z = np.array([0.1, 0.4, 0.3, 0.0, 0.2])\n",
        "P1 = 10.0e5\n",
        "T1 = -150 + 273.15\n",
        "P2 = 1.0e5\n",
        "T2,Fr = Cal_Valve(z,P1,T1,P2)\n",
        "print('T2 =', T2, '℃' , Fr)"
      ]
    },
    {
      "cell_type": "code",
      "execution_count": null,
      "id": "b7e160a0-e9ad-4f02-b14e-e287dcb67637",
      "metadata": {
        "tags": [],
        "id": "b7e160a0-e9ad-4f02-b14e-e287dcb67637",
        "outputId": "b082ca21-08b4-47e0-843a-7da725b3bb5d"
      },
      "outputs": [
        {
          "name": "stdout",
          "output_type": "stream",
          "text": [
            "T2 = -32.4214 ℃\n",
            "T2 = (-32.4214, 49.78) ℃\n"
          ]
        }
      ],
      "source": [
        "### VALVE\n",
        "z = np.array([0.0, 0.4, 0.2, 0.2, 0.2])\n",
        "P1 = 1.0e7\n",
        "T1 = 273.13\n",
        "P2 = 1.0e6\n",
        "T2 = Cal_Valve(z,P1,T1,P2)\n",
        "print('T2 =', T2, '℃')"
      ]
    },
    {
      "cell_type": "markdown",
      "id": "87b43c50-f098-4641-855b-5be17f91f731",
      "metadata": {
        "jp-MarkdownHeadingCollapsed": true,
        "tags": [],
        "id": "87b43c50-f098-4641-855b-5be17f91f731"
      },
      "source": [
        "# Widget"
      ]
    },
    {
      "cell_type": "code",
      "execution_count": null,
      "id": "b16b2fd7-7d76-4ff5-a88e-f41678f12e1f",
      "metadata": {
        "id": "b16b2fd7-7d76-4ff5-a88e-f41678f12e1f"
      },
      "outputs": [],
      "source": [
        "Label1 = widgets.Label(\"Composition\")\n",
        "wComp1 = widgets.BoundedFloatText(\n",
        "    value=0.1,\n",
        "    min=0,\n",
        "    max=1.0,\n",
        "    step=0.1,\n",
        "    description='N2:',\n",
        "    disabled=False\n",
        ")\n",
        "wComp2 = widgets.BoundedFloatText(\n",
        "    value=0.4,\n",
        "    min=0,\n",
        "    max=1.0,\n",
        "    step=0.1,\n",
        "    description='C1:',\n",
        "    disabled=False\n",
        ")\n",
        "wComp3 = widgets.BoundedFloatText(\n",
        "    value=0.3,\n",
        "    min=0,\n",
        "    max=1.0,\n",
        "    step=0.1,\n",
        "    description='C2:',\n",
        "    disabled=False\n",
        ")\n",
        "wComp4 = widgets.BoundedFloatText(\n",
        "    value=0.0,\n",
        "    min=0,\n",
        "    max=1.0,\n",
        "    step=0.1,\n",
        "    description='C3:',\n",
        "    disabled=False\n",
        ")\n",
        "wComp5 = widgets.BoundedFloatText(\n",
        "    value=0.2,\n",
        "    min=0,\n",
        "    max=1.0,\n",
        "    step=0.1,\n",
        "    description='C4:',\n",
        "    disabled=False\n",
        ")\n",
        "wCompSum = widgets.BoundedFloatText(\n",
        "    value=wComp1.value+wComp2.value+wComp3.value+wComp4.value+wComp5.value,\n",
        "    min=0,\n",
        "    max=1.0,\n",
        "    step=0.1,\n",
        "    description='SUM:',\n",
        "    disabled=False\n",
        ")\n",
        "\n",
        "Label2 = widgets.Label(\"Input\")\n",
        "\n",
        "wInputPressure = widgets.BoundedFloatText(\n",
        "    value=10,\n",
        "    min=0,\n",
        "    max=300.0,\n",
        "    step=0.1,\n",
        "    description='P1 (bar) :',\n",
        "    disabled=False\n",
        ")\n",
        "wInputTemperature = widgets.BoundedFloatText(\n",
        "    value=-150,\n",
        "    min=-500,\n",
        "    max=500.0,\n",
        "    step=0.1,\n",
        "    description='T1 (C) :',\n",
        "    disabled=False\n",
        ")\n",
        "\n",
        "wOutputPressure = widgets.BoundedFloatText(\n",
        "    value=1,\n",
        "    min=0,\n",
        "    max=300.0,\n",
        "    step=0.1,\n",
        "    description='P2 (bar) :',\n",
        "    disabled=False\n",
        ")\n",
        "\n",
        "Label3 = widgets.Label(\"< ### Result ### >\")\n",
        "\n",
        "wOutputTemperature = widgets.BoundedFloatText(\n",
        "    value=0,\n",
        "    min=-500,\n",
        "    max=500.0,\n",
        "    step=0.1,\n",
        "    description='T2 (C) :',\n",
        "    disabled=False\n",
        ")\n",
        "\n",
        "wOutputVaporFraction = widgets.BoundedFloatText(\n",
        "    value=0,\n",
        "    min=0.0,\n",
        "    max=100.0,\n",
        "    step=0.1,\n",
        "    description='Vapor(%)',\n",
        "    disabled=False\n",
        ")\n",
        "\n",
        "btn = widgets.Button(description = \"Calculate\")\n",
        "lbl3 = widgets.Label()\n",
        "\n",
        "\n",
        "def Calculate_valve(a):\n",
        "    z = np.array([wComp1.value,wComp2.value,wComp3.value,wComp4.value,wComp5.value])\n",
        "    P1 = wInputPressure.value * 1e5\n",
        "    T1 = wInputTemperature.value + 273.15\n",
        "    P2 = wOutputPressure.value * 1e5\n",
        "    wOutputTemperature.value, Fr = Cal_Valve(z,P1,T1,P2)\n",
        "    wOutputVaporFraction.value = Fr\n",
        "    \n",
        "    #wOutputTemperature.value = 100.0\n",
        "    \n"
      ]
    },
    {
      "cell_type": "markdown",
      "id": "06555a08-fd75-4c89-a127-ec4c05c04dce",
      "metadata": {
        "tags": [],
        "id": "06555a08-fd75-4c89-a127-ec4c05c04dce"
      },
      "source": [
        "# Valve"
      ]
    },
    {
      "cell_type": "code",
      "execution_count": null,
      "id": "50d2ca1b-7fc1-478c-a340-94a7292f4955",
      "metadata": {
        "jupyter": {
          "source_hidden": true
        },
        "tags": [],
        "colab": {
          "referenced_widgets": [
            "55d4be2c6b9949559cfb48c08e46c82c",
            "942d2b32027a4c4da4ea415e43efd80e",
            "2434fce03079466a999c1d064c893d9e",
            "62b57e8801f240b096b326d66dd943f1",
            "11e1a530b99e49f8a9cbf5c06dcae6aa",
            "3be9856e6aa94f92bbfb74d55beaacc7",
            "7056f7e695c54540901a13ba083c6542",
            "8c40ad0b02a64cad99b7e00d5c289a53",
            "c51676624f034c5aacc94b8f1ed7033b",
            "0a599a98ed9145a187e275c177951fcd",
            "0a0672cefdae4d13b1f8c743379e36b8",
            "f3c8f29d28c14fd9974ae734137a6aa8",
            "b05f8220ce164872b48b587de1df5933",
            "d142cd30b25f40119183a8f0670b6e27",
            "ffe61493d7524dd5a664c4df5342c345"
          ]
        },
        "id": "50d2ca1b-7fc1-478c-a340-94a7292f4955",
        "outputId": "d9f817bb-d7b4-4c07-9243-fe241caadd52"
      },
      "outputs": [
        {
          "data": {
            "application/vnd.jupyter.widget-view+json": {
              "model_id": "55d4be2c6b9949559cfb48c08e46c82c",
              "version_major": 2,
              "version_minor": 0
            },
            "text/plain": [
              "Label(value='### VALVE Calculation ###')"
            ]
          },
          "metadata": {},
          "output_type": "display_data"
        },
        {
          "data": {
            "application/vnd.jupyter.widget-view+json": {
              "model_id": "942d2b32027a4c4da4ea415e43efd80e",
              "version_major": 2,
              "version_minor": 0
            },
            "text/plain": [
              "Label(value='Composition')"
            ]
          },
          "metadata": {},
          "output_type": "display_data"
        },
        {
          "data": {
            "application/vnd.jupyter.widget-view+json": {
              "model_id": "2434fce03079466a999c1d064c893d9e",
              "version_major": 2,
              "version_minor": 0
            },
            "text/plain": [
              "BoundedFloatText(value=0.1, description='N2:', max=1.0, step=0.1)"
            ]
          },
          "metadata": {},
          "output_type": "display_data"
        },
        {
          "data": {
            "application/vnd.jupyter.widget-view+json": {
              "model_id": "62b57e8801f240b096b326d66dd943f1",
              "version_major": 2,
              "version_minor": 0
            },
            "text/plain": [
              "BoundedFloatText(value=0.4, description='C1:', max=1.0, step=0.1)"
            ]
          },
          "metadata": {},
          "output_type": "display_data"
        },
        {
          "data": {
            "application/vnd.jupyter.widget-view+json": {
              "model_id": "11e1a530b99e49f8a9cbf5c06dcae6aa",
              "version_major": 2,
              "version_minor": 0
            },
            "text/plain": [
              "BoundedFloatText(value=0.3, description='C2:', max=1.0, step=0.1)"
            ]
          },
          "metadata": {},
          "output_type": "display_data"
        },
        {
          "data": {
            "application/vnd.jupyter.widget-view+json": {
              "model_id": "3be9856e6aa94f92bbfb74d55beaacc7",
              "version_major": 2,
              "version_minor": 0
            },
            "text/plain": [
              "BoundedFloatText(value=0.0, description='C3:', max=1.0, step=0.1)"
            ]
          },
          "metadata": {},
          "output_type": "display_data"
        },
        {
          "data": {
            "application/vnd.jupyter.widget-view+json": {
              "model_id": "7056f7e695c54540901a13ba083c6542",
              "version_major": 2,
              "version_minor": 0
            },
            "text/plain": [
              "BoundedFloatText(value=0.2, description='C4:', max=1.0, step=0.1)"
            ]
          },
          "metadata": {},
          "output_type": "display_data"
        },
        {
          "data": {
            "application/vnd.jupyter.widget-view+json": {
              "model_id": "8c40ad0b02a64cad99b7e00d5c289a53",
              "version_major": 2,
              "version_minor": 0
            },
            "text/plain": [
              "Label(value='Input')"
            ]
          },
          "metadata": {},
          "output_type": "display_data"
        },
        {
          "data": {
            "application/vnd.jupyter.widget-view+json": {
              "model_id": "c51676624f034c5aacc94b8f1ed7033b",
              "version_major": 2,
              "version_minor": 0
            },
            "text/plain": [
              "BoundedFloatText(value=10.0, description='P1 (bar) :', max=300.0, step=0.1)"
            ]
          },
          "metadata": {},
          "output_type": "display_data"
        },
        {
          "data": {
            "application/vnd.jupyter.widget-view+json": {
              "model_id": "0a599a98ed9145a187e275c177951fcd",
              "version_major": 2,
              "version_minor": 0
            },
            "text/plain": [
              "BoundedFloatText(value=-150.0, description='T1 (C) :', max=500.0, min=-500.0, step=0.1)"
            ]
          },
          "metadata": {},
          "output_type": "display_data"
        },
        {
          "data": {
            "application/vnd.jupyter.widget-view+json": {
              "model_id": "0a0672cefdae4d13b1f8c743379e36b8",
              "version_major": 2,
              "version_minor": 0
            },
            "text/plain": [
              "BoundedFloatText(value=1.0, description='P2 (bar) :', max=300.0, step=0.1)"
            ]
          },
          "metadata": {},
          "output_type": "display_data"
        },
        {
          "data": {
            "application/vnd.jupyter.widget-view+json": {
              "model_id": "f3c8f29d28c14fd9974ae734137a6aa8",
              "version_major": 2,
              "version_minor": 0
            },
            "text/plain": [
              "Button(description='Calculate', style=ButtonStyle())"
            ]
          },
          "metadata": {},
          "output_type": "display_data"
        },
        {
          "data": {
            "application/vnd.jupyter.widget-view+json": {
              "model_id": "b05f8220ce164872b48b587de1df5933",
              "version_major": 2,
              "version_minor": 0
            },
            "text/plain": [
              "Label(value='< ### Result ### >')"
            ]
          },
          "metadata": {},
          "output_type": "display_data"
        },
        {
          "data": {
            "application/vnd.jupyter.widget-view+json": {
              "model_id": "d142cd30b25f40119183a8f0670b6e27",
              "version_major": 2,
              "version_minor": 0
            },
            "text/plain": [
              "BoundedFloatText(value=0.0, description='T2 (C) :', max=500.0, min=-500.0, step=0.1)"
            ]
          },
          "metadata": {},
          "output_type": "display_data"
        },
        {
          "data": {
            "application/vnd.jupyter.widget-view+json": {
              "model_id": "ffe61493d7524dd5a664c4df5342c345",
              "version_major": 2,
              "version_minor": 0
            },
            "text/plain": [
              "BoundedFloatText(value=0.0, description='Vapor(%)', step=0.1)"
            ]
          },
          "metadata": {},
          "output_type": "display_data"
        }
      ],
      "source": [
        "display(widgets.Label(\"### VALVE Calculation ###\"))\n",
        "display(Label1,wComp1,wComp2,wComp3,wComp4,wComp5)\n",
        "display(Label2,wInputPressure,wInputTemperature,wOutputPressure)\n",
        "display(btn)\n",
        "display(Label3,wOutputTemperature,wOutputVaporFraction)\n",
        "#display(lbl3)\n",
        "btn.on_click(Calculate_valve)"
      ]
    }
  ],
  "metadata": {
    "interpreter": {
      "hash": "fb4569285eef3a3450cb62085a5b1e0da4bce0af555edc33dcf29baf3acc1368"
    },
    "kernelspec": {
      "display_name": "Python 3.10.3 64-bit",
      "language": "python",
      "name": "python3"
    },
    "language_info": {
      "codemirror_mode": {
        "name": "ipython",
        "version": 3
      },
      "file_extension": ".py",
      "mimetype": "text/x-python",
      "name": "python",
      "nbconvert_exporter": "python",
      "pygments_lexer": "ipython3",
      "version": "3.10.3"
    },
    "colab": {
      "provenance": [],
      "collapsed_sections": []
    }
  },
  "nbformat": 4,
  "nbformat_minor": 5
}