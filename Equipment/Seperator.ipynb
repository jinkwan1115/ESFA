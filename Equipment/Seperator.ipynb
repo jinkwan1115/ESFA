{
  "cells": [
    {
      "cell_type": "markdown",
      "id": "3c27b36a-4aeb-49f0-9ccb-bef4089ed7ab",
      "metadata": {
        "jp-MarkdownHeadingCollapsed": true,
        "tags": [],
        "id": "3c27b36a-4aeb-49f0-9ccb-bef4089ed7ab"
      },
      "source": [
        "# Header"
      ]
    },
    {
      "cell_type": "code",
      "execution_count": null,
      "id": "631a061f-ec65-4fde-9f29-2bc2301892a2",
      "metadata": {
        "id": "631a061f-ec65-4fde-9f29-2bc2301892a2"
      },
      "outputs": [],
      "source": [
        "import numpy as np\n",
        "from ipywidgets import widgets\n",
        "from Functions.Properties_Functions import * "
      ]
    },
    {
      "cell_type": "markdown",
      "id": "6d0448c0-b4c2-49c6-b58c-fc566fba2fe8",
      "metadata": {
        "jp-MarkdownHeadingCollapsed": true,
        "tags": [],
        "id": "6d0448c0-b4c2-49c6-b58c-fc566fba2fe8"
      },
      "source": [
        "# Equipment Functions"
      ]
    },
    {
      "cell_type": "code",
      "execution_count": null,
      "id": "ee69fc2f-51d5-4b75-8cb0-c00f4e4d1b17",
      "metadata": {
        "tags": [],
        "id": "ee69fc2f-51d5-4b75-8cb0-c00f4e4d1b17"
      },
      "outputs": [],
      "source": [
        "def Cal_Seperator(z,F,P,T):\n",
        "    Tr = T/Tc\n",
        "    alpha = (1 + k*(1 - np.sqrt(Tr)))**2\n",
        "    a_alpha = a*alpha\n",
        "    a_alphaij = np.sqrt(np.array([a_alpha]).T.dot(np.array([a_alpha])))*(1-binary_coeff)\n",
        "\n",
        "    Psat = Antoine(T, AA, AB, AC)\n",
        "    K = Psat/P\n",
        "\n",
        "    Fr = 0.5\n",
        "    f_Fr = sigma_Fr(Fr,z,K).sum()\n",
        "    fp_Fr = sigmap_Fr(Fr,z,K).sum()\n",
        "\n",
        "    while np.abs(f_Fr) > 1.0e-10:\n",
        "        Fr = Fr - f_Fr/fp_Fr\n",
        "        f_Fr = sigma_Fr(Fr,z,K).sum()\n",
        "        fp_Fr = sigmap_Fr(Fr,z,K).sum()\n",
        "    Fr0 = Fr\n",
        "    x = z/(1 - Fr*(1-K))\n",
        "    y = x*K\n",
        "\n",
        "    a_alphal = np.sum(np.array([x]).T.dot(np.array([x]))*a_alphaij)\n",
        "    bl = np.sum(x*b)\n",
        "    Al = a_alphal*P/((R*T)**2)\n",
        "    Bl = bl*P/(R*T)\n",
        "\n",
        "    a_alphag = np.sum(np.array([y]).T.dot(np.array([y]))*a_alphaij)\n",
        "    bg = np.sum(y*b)\n",
        "    Ag = a_alphag*P/((R*T)**2)\n",
        "    Bg = bg*P/(R*T)\n",
        "    \n",
        "    Zl = cardan(Al,Bl)\n",
        "    if np.size(Zl) > 2:\n",
        "      Zl = min(Zl)\n",
        "    Zg = cardan(Ag,Bg)\n",
        "    if np.size(Zg) > 2:\n",
        "      Zg = max(Zg)\n",
        "    vl = Zl * R * T / P\n",
        "    vg = Zg * R * T / P\n",
        "\n",
        "    xa_alpha = np.array([x]).dot(a_alphaij)\n",
        "    xa_alpha = xa_alpha[0]\n",
        "    ya_alpha = np.array([y]).dot(a_alphaij)\n",
        "    ya_alpha = ya_alpha[0]\n",
        "    fl_log = b/bl*(Zl-1) - np.log((vl-bl)*P/(R*T)) + \\\n",
        "              a_alphal/(2*np.sqrt(2)*bl*R*T)*(b/bl-2/a_alphal*xa_alpha)*np.log((vl+(1+2**0.5)*bl)/(vl+(1-2**0.5)*bl))\n",
        "    fg_log = b/bg*(Zg-1) - np.log((vg-bg)*P/(R*T)) + \\\n",
        "              a_alphag/(2*np.sqrt(2)*bg*R*T)*(b/bg-2/a_alphag*ya_alpha)*np.log((vg+(1+2**0.5)*bg)/(vg+(1-2**0.5)*bg))\n",
        "\n",
        "    fl = np.exp(fl_log)\n",
        "    fg = np.exp(fg_log)\n",
        "\n",
        "    K = fl/fg\n",
        "    Fr = 0.5\n",
        "    f_Fr = sigma_Fr(Fr,z,K).sum()\n",
        "    fp_Fr = sigmap_Fr(Fr,z,K).sum()\n",
        "\n",
        "    while np.abs(f_Fr) > 1.0e-10:\n",
        "      Fr = Fr - f_Fr/fp_Fr\n",
        "      f_Fr = sigma_Fr(Fr,z,K).sum()\n",
        "      fp_Fr = sigmap_Fr(Fr,z,K).sum()\n",
        "    x = z/(1 - Fr*(1-K))\n",
        "    y = x*K\n",
        "    \n",
        "    while abs(Fr - Fr0) > 1.0e-10:\n",
        "\n",
        "      Fr0 = Fr\n",
        "\n",
        "      a_alphal = np.sum(np.array([x]).T.dot(np.array([x]))*a_alphaij)\n",
        "      bl = np.sum(x*b)\n",
        "      Al = a_alphal*P/((R*T)**2)\n",
        "      Bl = bl*P/(R*T)\n",
        "\n",
        "      a_alphag = np.sum(np.array([y]).T.dot(np.array([y]))*a_alphaij)\n",
        "      bg = np.sum(y*b)\n",
        "      Ag = a_alphag*P/((R*T)**2)\n",
        "      Bg = bg*P/(R*T)\n",
        "\n",
        "      Zl = cardan(Al,Bl)\n",
        "      if np.size(Zl) > 2:\n",
        "        Zl = min(Zl)\n",
        "      Zg = cardan(Ag,Bg)\n",
        "      if np.size(Zg) > 2:\n",
        "        Zg = max(Zg)\n",
        "      vl = Zl * R * T / P\n",
        "      vg = Zg * R * T / P\n",
        "\n",
        "      xa_alpha = np.array([x]).dot(a_alphaij)\n",
        "      xa_alpha = xa_alpha[0]\n",
        "      ya_alpha = np.array([y]).dot(a_alphaij)\n",
        "      ya_alpha = ya_alpha[0]\n",
        "      fl_log = b/bl*(Zl-1) - np.log((vl-bl)*P/(R*T)) + \\\n",
        "                a_alphal/(2*np.sqrt(2)*bl*R*T)*(b/bl-2/a_alphal*xa_alpha)*np.log((vl+(1+2**0.5)*bl)/(vl+(1-2**0.5)*bl))\n",
        "      fg_log = b/bg*(Zg-1) - np.log((vg-bg)*P/(R*T)) + \\\n",
        "                a_alphag/(2*np.sqrt(2)*bg*R*T)*(b/bg-2/a_alphag*ya_alpha)*np.log((vg+(1+2**0.5)*bg)/(vg+(1-2**0.5)*bg))\n",
        "\n",
        "      fl = np.exp(fl_log)\n",
        "      fg = np.exp(fg_log)\n",
        "\n",
        "      K = fl/fg\n",
        "      Fr = 0.5\n",
        "      f_Fr = sigma_Fr(Fr,z,K).sum()\n",
        "      fp_Fr = sigmap_Fr(Fr,z,K).sum()\n",
        "\n",
        "      while np.abs(f_Fr) > 1.0e-10:\n",
        "        Fr = Fr - f_Fr/fp_Fr\n",
        "        f_Fr = sigma_Fr(Fr,z,K).sum()\n",
        "        fp_Fr = sigmap_Fr(Fr,z,K).sum()\n",
        "      x = z/(1 - Fr*(1-K))\n",
        "      y = x*K\n",
        "\n",
        "\n",
        "\n",
        "    Fv = F*Fr\n",
        "    Fl = F - Fv\n",
        "    \n",
        "    OutString_Fraction = \"NULL\"\n",
        "    OutString_xFraction = \"NULL\"\n",
        "    OutString_yFraction = \"NULL\"\n",
        "\n",
        "    if Fv < 0 or Fl <0 :\n",
        "      print(\"Error: It dosen't converge\")\n",
        "      OutString_Fraction = \"Error: It dosen't converge\"\n",
        "    else:\n",
        "      print('F_V:',np.round(Fv,2),', F_L:',np.round(Fl,2))\n",
        "      print('x0:',np.round(x[0],4),', x1:',np.round(x[1],4),', x2:',np.round(x[2],4),', x3:',np.round(x[3],4),', x4:',np.round(x[4],4))\n",
        "      print('y0:',np.round(y[0],4),', y1:',np.round(y[1],4),', y2:',np.round(y[2],4),', y3:',np.round(y[3],4),', y4:',np.round(y[4],4))\n",
        "      OutString_Fraction = \"Vapor Amount : \" + str(np.round(Fv,2)) + \"  /  Liquid Amount : \" + str(np.round(Fl,2)) + \"\\n\"\n",
        "      OutString_xFraction = 'x_N2:' + str(np.round(x[0],4)) + ', x_C1:' + str(np.round(x[1],4)) + ', x_C2:' + str(np.round(x[2],4)) + ', x_C3:'+ str(np.round(x[3],4)) + ', x:C4:' + str(np.round(x[4],4)) + \"\\n\"\n",
        "      OutString_yFraction = 'y_N2:' + str(np.round(y[0],4)) + ', y_C1:' + str(np.round(y[1],4)) + ', y_C2:' + str(np.round(y[2],4)) + ', y_C3:'+ str(np.round(y[3],4)) + ', y_C4:' + str(np.round(y[4],4)) + \"\\n\"\n",
        "    \n",
        "    return [OutString_Fraction,OutString_xFraction,OutString_yFraction]"
      ]
    },
    {
      "cell_type": "code",
      "execution_count": null,
      "id": "4516a4b9-9977-42b5-b45d-da38b7c9eb9f",
      "metadata": {
        "id": "4516a4b9-9977-42b5-b45d-da38b7c9eb9f",
        "outputId": "2f5138ae-7bb8-4c17-ed09-94d96995fbfb"
      },
      "outputs": [
        {
          "name": "stdout",
          "output_type": "stream",
          "text": [
            "F_V: 90.2 , F_L: 9.8\n",
            "x0: 0.0006 , x1: 0.001 , x2: 0.0 , x3: 0.1045 , x4: 0.8939\n",
            "y0: 0.3325 , y1: 0.1108 , y2: 0.0 , y3: 0.2104 , y4: 0.3463\n",
            "Vapor Amount : 90.2  /  Liquid Amount : 9.8\n",
            " x_N2:0.0006, x_C1:0.001, x_C2:0.0, x_C3:0.1045, x:C4:0.8939\n",
            " y_N2:0.3325, y_C1:0.1108, y_C2:0.0, y_C3:0.2104, y_C4:0.3463\n",
            "\n"
          ]
        }
      ],
      "source": [
        "return_text = Cal_Seperator(np.array([0.3, 0.1, 0.0, 0.2, 0.4]),100,1.0e5,-24.6189 + 273.15)\n",
        "print(return_text[0],return_text[1],return_text[2])"
      ]
    },
    {
      "cell_type": "markdown",
      "id": "3062a351-ef3b-49d9-a56e-5fba800541d1",
      "metadata": {
        "jp-MarkdownHeadingCollapsed": true,
        "tags": [],
        "id": "3062a351-ef3b-49d9-a56e-5fba800541d1"
      },
      "source": [
        "# TEST "
      ]
    },
    {
      "cell_type": "code",
      "execution_count": null,
      "id": "8000b46e-bff9-43c3-a202-1e5f3db91f56",
      "metadata": {
        "id": "8000b46e-bff9-43c3-a202-1e5f3db91f56",
        "outputId": "f5833997-f2e3-4487-9f24-6fc6f8e058a6"
      },
      "outputs": [
        {
          "name": "stdout",
          "output_type": "stream",
          "text": [
            "F_V: 32.18 , F_L: 67.82\n",
            "x0: 0.0 , x1: 0.0 , x2: 0.0 , x3: 0.378 , x4: 0.622\n",
            "y0: 0.0 , y1: 0.0 , y2: 0.0 , y3: 0.757 , y4: 0.243\n",
            "['Vapor Amount : 32.18  /  Liquid Amount : 67.82\\n', 'x_N2:0.0, x_C1:0.0, x_C2:0.0, x_C3:0.378, x:C4:0.622\\n', 'y_N2:0.0, y_C1:0.0, y_C2:0.0, y_C3:0.757, y_C4:0.243\\n']\n"
          ]
        }
      ],
      "source": [
        "# N2, C1, C2, C3, C4\n",
        "z = np.array([0.0, 0.0, 0.0, 0.5, 0.5])\n",
        "P1 = 1.0e5\n",
        "T1 = -24.6189\n",
        "F = 100\n",
        "result_string = Cal_Seperator(z,F,P1,T1+273.15)\n",
        "print(result_string)"
      ]
    },
    {
      "cell_type": "markdown",
      "id": "87b43c50-f098-4641-855b-5be17f91f731",
      "metadata": {
        "jp-MarkdownHeadingCollapsed": true,
        "tags": [],
        "id": "87b43c50-f098-4641-855b-5be17f91f731"
      },
      "source": [
        "# Widget"
      ]
    },
    {
      "cell_type": "code",
      "execution_count": null,
      "id": "b16b2fd7-7d76-4ff5-a88e-f41678f12e1f",
      "metadata": {
        "id": "b16b2fd7-7d76-4ff5-a88e-f41678f12e1f"
      },
      "outputs": [],
      "source": [
        "Label1 = widgets.Label(\"Composition\")\n",
        "wComp1 = widgets.BoundedFloatText(\n",
        "    value=0.0,\n",
        "    min=0,\n",
        "    max=1.0,\n",
        "    step=0.1,\n",
        "    description='N2:',\n",
        "    disabled=False\n",
        ")\n",
        "wComp2 = widgets.BoundedFloatText(\n",
        "    value=0.0,\n",
        "    min=0,\n",
        "    max=1.0,\n",
        "    step=0.1,\n",
        "    description='C1:',\n",
        "    disabled=False\n",
        ")\n",
        "wComp3 = widgets.BoundedFloatText(\n",
        "    value=0.0,\n",
        "    min=0,\n",
        "    max=1.0,\n",
        "    step=0.1,\n",
        "    description='C2:',\n",
        "    disabled=False\n",
        ")\n",
        "wComp4 = widgets.BoundedFloatText(\n",
        "    value=0.5,\n",
        "    min=0,\n",
        "    max=1.0,\n",
        "    step=0.1,\n",
        "    description='C3:',\n",
        "    disabled=False\n",
        ")\n",
        "wComp5 = widgets.BoundedFloatText(\n",
        "    value=0.5,\n",
        "    min=0,\n",
        "    max=1.0,\n",
        "    step=0.1,\n",
        "    description='C4:',\n",
        "    disabled=False\n",
        ")\n",
        "wCompSum = widgets.BoundedFloatText(\n",
        "    value=wComp1.value+wComp2.value+wComp3.value+wComp4.value+wComp5.value,\n",
        "    min=0,\n",
        "    max=1.0,\n",
        "    step=0.1,\n",
        "    description='SUM:',\n",
        "    disabled=False\n",
        ")\n",
        "\n",
        "Label2 = widgets.Label(\"Input\")\n",
        "\n",
        "wInputPressure = widgets.BoundedFloatText(\n",
        "    value=1,\n",
        "    min=0,\n",
        "    max=300.0,\n",
        "    step=0.1,\n",
        "    description='P1 (bar) :',\n",
        "    disabled=False\n",
        ")\n",
        "wInputTemperature = widgets.BoundedFloatText(\n",
        "    value=-24.6,\n",
        "    min=-500,\n",
        "    max=500.0,\n",
        "    step=0.1,\n",
        "    description='T1 (C) :',\n",
        "    disabled=False\n",
        ")\n",
        "\n",
        "wInputFlow = widgets.BoundedFloatText(\n",
        "    value=100,\n",
        "    min=-100000,\n",
        "    max=100000,\n",
        "    step=0.1,\n",
        "    description='F :',\n",
        "    disabled=False\n",
        ")\n",
        "\n",
        "wOutputPressure = widgets.BoundedFloatText(\n",
        "    value=2,\n",
        "    min=0,\n",
        "    max=300.0,\n",
        "    step=0.1,\n",
        "    description='P2 (bar) :',\n",
        "    disabled=False\n",
        ")\n",
        "\n",
        "Label3 = widgets.Label(\"< ### Result ### >\")\n",
        "\n",
        "wOutputTemperature = widgets.BoundedFloatText(\n",
        "    value=0,\n",
        "    min=-500,\n",
        "    max=500.0,\n",
        "    step=0.1,\n",
        "    description='T2 (C) :',\n",
        "    disabled=False\n",
        ")\n",
        "\n",
        "wOutputEnergy = widgets.BoundedFloatText(\n",
        "    value=0,\n",
        "    min=-1000000,\n",
        "    max=1000000,\n",
        "    step=0.1,\n",
        "    description='W(Q) (KJ/Kmol) :',\n",
        "    disabled=False\n",
        ")\n",
        "\n",
        "StringOut_Fraction = widgets.Label()\n",
        "StringOut_xFraction = widgets.Label()\n",
        "StringOUt_yFraction = widgets.Label()\n",
        "\n",
        "btn = widgets.Button(description = \"Calculate\")\n",
        "lbl3 = widgets.Label()\n",
        "\n",
        "def Calculate_Seperator(a):\n",
        "    z = np.array([wComp1.value,wComp2.value,wComp3.value,wComp4.value,wComp5.value])\n",
        "    P1 = wInputPressure.value * 1e5\n",
        "    T1 = wInputTemperature.value + 273.15\n",
        "    F = wInputFlow.value\n",
        "    resut_String = Cal_Seperator(z,F,P1,T1)\n",
        "    \n",
        "    StringOut_Fraction.value = resut_String[0]\n",
        "    StringOut_xFraction.value = resut_String[1]\n",
        "    StringOUt_yFraction.value = resut_String[2]"
      ]
    },
    {
      "cell_type": "markdown",
      "id": "afe18f3c-b8c4-41c7-9c65-3330e8893a97",
      "metadata": {
        "tags": [],
        "id": "afe18f3c-b8c4-41c7-9c65-3330e8893a97"
      },
      "source": [
        "# Seperator"
      ]
    },
    {
      "cell_type": "code",
      "execution_count": null,
      "id": "53ab8c53-ea4f-409a-a2ab-3e6576144e55",
      "metadata": {
        "jupyter": {
          "source_hidden": true
        },
        "tags": [],
        "colab": {
          "referenced_widgets": [
            "3e003f825d974638836911610bdaa061",
            "172ca2c9a8d3426aa14c72f34ddad5dd",
            "76067e6df3064eab9699290d8bd47415",
            "983cf3c481cf4aabbdb86e4d2fcabe14",
            "fc58edeeea0f4211b5ff1d518c9861d9",
            "b70ca1696d4f4e0688ca414958e42acd",
            "b8608d29867c42ee8f40544920799dae",
            "d47f7603d52b4cf9908332182dd6780e",
            "7483a49aa87f474681fe9c96ce6d06c3",
            "39389c97a7684cf59cd33a4699adebb1",
            "a3d117e853584ceb84cb502863ded36d",
            "529ae7e3bfc3463e98c8deea58275151",
            "eb2ca3dbb6e44c31a10e29157a74b539",
            "0fbd0dd6bf484584b40fb4945a017fb7",
            "e9b190e18b5346679b98e8bbfea47dbf"
          ]
        },
        "id": "53ab8c53-ea4f-409a-a2ab-3e6576144e55",
        "outputId": "5e3bfed0-091e-4a4a-c835-f32efd8a38cc"
      },
      "outputs": [
        {
          "data": {
            "application/vnd.jupyter.widget-view+json": {
              "model_id": "3e003f825d974638836911610bdaa061",
              "version_major": 2,
              "version_minor": 0
            },
            "text/plain": [
              "Label(value='### Seperator Calculation ###')"
            ]
          },
          "metadata": {},
          "output_type": "display_data"
        },
        {
          "data": {
            "application/vnd.jupyter.widget-view+json": {
              "model_id": "172ca2c9a8d3426aa14c72f34ddad5dd",
              "version_major": 2,
              "version_minor": 0
            },
            "text/plain": [
              "Label(value='Composition')"
            ]
          },
          "metadata": {},
          "output_type": "display_data"
        },
        {
          "data": {
            "application/vnd.jupyter.widget-view+json": {
              "model_id": "76067e6df3064eab9699290d8bd47415",
              "version_major": 2,
              "version_minor": 0
            },
            "text/plain": [
              "BoundedFloatText(value=0.0, description='N2:', max=1.0, step=0.1)"
            ]
          },
          "metadata": {},
          "output_type": "display_data"
        },
        {
          "data": {
            "application/vnd.jupyter.widget-view+json": {
              "model_id": "983cf3c481cf4aabbdb86e4d2fcabe14",
              "version_major": 2,
              "version_minor": 0
            },
            "text/plain": [
              "BoundedFloatText(value=0.0, description='C1:', max=1.0, step=0.1)"
            ]
          },
          "metadata": {},
          "output_type": "display_data"
        },
        {
          "data": {
            "application/vnd.jupyter.widget-view+json": {
              "model_id": "fc58edeeea0f4211b5ff1d518c9861d9",
              "version_major": 2,
              "version_minor": 0
            },
            "text/plain": [
              "BoundedFloatText(value=0.0, description='C2:', max=1.0, step=0.1)"
            ]
          },
          "metadata": {},
          "output_type": "display_data"
        },
        {
          "data": {
            "application/vnd.jupyter.widget-view+json": {
              "model_id": "b70ca1696d4f4e0688ca414958e42acd",
              "version_major": 2,
              "version_minor": 0
            },
            "text/plain": [
              "BoundedFloatText(value=0.5, description='C3:', max=1.0, step=0.1)"
            ]
          },
          "metadata": {},
          "output_type": "display_data"
        },
        {
          "data": {
            "application/vnd.jupyter.widget-view+json": {
              "model_id": "b8608d29867c42ee8f40544920799dae",
              "version_major": 2,
              "version_minor": 0
            },
            "text/plain": [
              "BoundedFloatText(value=0.5, description='C4:', max=1.0, step=0.1)"
            ]
          },
          "metadata": {},
          "output_type": "display_data"
        },
        {
          "data": {
            "application/vnd.jupyter.widget-view+json": {
              "model_id": "d47f7603d52b4cf9908332182dd6780e",
              "version_major": 2,
              "version_minor": 0
            },
            "text/plain": [
              "Label(value='Input')"
            ]
          },
          "metadata": {},
          "output_type": "display_data"
        },
        {
          "data": {
            "application/vnd.jupyter.widget-view+json": {
              "model_id": "7483a49aa87f474681fe9c96ce6d06c3",
              "version_major": 2,
              "version_minor": 0
            },
            "text/plain": [
              "BoundedFloatText(value=1.0, description='P1 (bar) :', max=300.0, step=0.1)"
            ]
          },
          "metadata": {},
          "output_type": "display_data"
        },
        {
          "data": {
            "application/vnd.jupyter.widget-view+json": {
              "model_id": "39389c97a7684cf59cd33a4699adebb1",
              "version_major": 2,
              "version_minor": 0
            },
            "text/plain": [
              "BoundedFloatText(value=-24.6, description='T1 (C) :', max=500.0, min=-500.0, step=0.1)"
            ]
          },
          "metadata": {},
          "output_type": "display_data"
        },
        {
          "data": {
            "application/vnd.jupyter.widget-view+json": {
              "model_id": "a3d117e853584ceb84cb502863ded36d",
              "version_major": 2,
              "version_minor": 0
            },
            "text/plain": [
              "BoundedFloatText(value=100.0, description='F :', max=100000.0, min=-100000.0, step=0.1)"
            ]
          },
          "metadata": {},
          "output_type": "display_data"
        },
        {
          "data": {
            "application/vnd.jupyter.widget-view+json": {
              "model_id": "529ae7e3bfc3463e98c8deea58275151",
              "version_major": 2,
              "version_minor": 0
            },
            "text/plain": [
              "Button(description='Calculate', style=ButtonStyle())"
            ]
          },
          "metadata": {},
          "output_type": "display_data"
        },
        {
          "data": {
            "application/vnd.jupyter.widget-view+json": {
              "model_id": "eb2ca3dbb6e44c31a10e29157a74b539",
              "version_major": 2,
              "version_minor": 0
            },
            "text/plain": [
              "Label(value='')"
            ]
          },
          "metadata": {},
          "output_type": "display_data"
        },
        {
          "data": {
            "application/vnd.jupyter.widget-view+json": {
              "model_id": "0fbd0dd6bf484584b40fb4945a017fb7",
              "version_major": 2,
              "version_minor": 0
            },
            "text/plain": [
              "Label(value='')"
            ]
          },
          "metadata": {},
          "output_type": "display_data"
        },
        {
          "data": {
            "application/vnd.jupyter.widget-view+json": {
              "model_id": "e9b190e18b5346679b98e8bbfea47dbf",
              "version_major": 2,
              "version_minor": 0
            },
            "text/plain": [
              "Label(value='')"
            ]
          },
          "metadata": {},
          "output_type": "display_data"
        }
      ],
      "source": [
        "display(widgets.Label(\"### Seperator Calculation ###\"))\n",
        "display(Label1,wComp1,wComp2,wComp3,wComp4,wComp5)\n",
        "display(Label2,wInputPressure,wInputTemperature,wInputFlow)\n",
        "display(btn)\n",
        "display(StringOut_Fraction,StringOut_xFraction,StringOUt_yFraction)\n",
        "btn.on_click(Calculate_Seperator)"
      ]
    }
  ],
  "metadata": {
    "interpreter": {
      "hash": "fb4569285eef3a3450cb62085a5b1e0da4bce0af555edc33dcf29baf3acc1368"
    },
    "kernelspec": {
      "display_name": "Python 3.10.3 64-bit",
      "language": "python",
      "name": "python3"
    },
    "language_info": {
      "codemirror_mode": {
        "name": "ipython",
        "version": 3
      },
      "file_extension": ".py",
      "mimetype": "text/x-python",
      "name": "python",
      "nbconvert_exporter": "python",
      "pygments_lexer": "ipython3",
      "version": "3.10.3"
    },
    "colab": {
      "provenance": [],
      "collapsed_sections": []
    }
  },
  "nbformat": 4,
  "nbformat_minor": 5
}