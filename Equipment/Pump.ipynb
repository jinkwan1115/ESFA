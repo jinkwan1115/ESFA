{
  "cells": [
    {
      "cell_type": "markdown",
      "id": "3c27b36a-4aeb-49f0-9ccb-bef4089ed7ab",
      "metadata": {
        "jp-MarkdownHeadingCollapsed": true,
        "tags": [],
        "id": "3c27b36a-4aeb-49f0-9ccb-bef4089ed7ab"
      },
      "source": [
        "# Header"
      ]
    },
    {
      "cell_type": "code",
      "execution_count": null,
      "id": "631a061f-ec65-4fde-9f29-2bc2301892a2",
      "metadata": {
        "id": "631a061f-ec65-4fde-9f29-2bc2301892a2"
      },
      "outputs": [],
      "source": [
        "import numpy as np\n",
        "from ipywidgets import widgets\n",
        "from Functions.Properties_Functions import * "
      ]
    },
    {
      "cell_type": "markdown",
      "id": "6d0448c0-b4c2-49c6-b58c-fc566fba2fe8",
      "metadata": {
        "jp-MarkdownHeadingCollapsed": true,
        "tags": [],
        "id": "6d0448c0-b4c2-49c6-b58c-fc566fba2fe8"
      },
      "source": [
        "# Equipment Functions"
      ]
    },
    {
      "cell_type": "code",
      "execution_count": null,
      "id": "ee69fc2f-51d5-4b75-8cb0-c00f4e4d1b17",
      "metadata": {
        "id": "ee69fc2f-51d5-4b75-8cb0-c00f4e4d1b17"
      },
      "outputs": [],
      "source": [
        "def Cal_Pump(z,P1,T1,P2):\n",
        "    # Heat capacity coeff. for mixture\n",
        "    MW_ = np.sum(z*MW)\n",
        "    HA_ = np.sum(z*MW/MW_*HA)\n",
        "    HB_ = np.sum(z*MW/MW_*HB)\n",
        "    HC_ = np.sum(z*MW/MW_*HC)\n",
        "    HD_ = np.sum(z*MW/MW_*HD)\n",
        "\n",
        "\n",
        "    Tr1 = T1/Tc\n",
        "    alpha1 = (1 + k*(1 - np.sqrt(Tr1)))**2\n",
        "    a_alpha1 = a*alpha1\n",
        "    a_alphaij1 = np.sqrt(np.array([a_alpha1]).T.dot(np.array([a_alpha1])))*(1-binary_coeff)\n",
        "    a_alphamix1 = np.sum(np.array([z]).T.dot(np.array([z]))*a_alphaij1)\n",
        "    b1 = np.sum(z*b)\n",
        "\n",
        "    A1 = a_alphamix1*P1/((R*T1)**2)\n",
        "    B1 = b1*P1/(R*T1)\n",
        "\n",
        "    Z1 = cardan(A1,B1)\n",
        "    if np.size(Z1) > 2:\n",
        "      Z1 = min(Z1)\n",
        "    v1 = Z1 * R * T1 / P1\n",
        "\n",
        "\n",
        "    T2 = T1\n",
        "    Tr2 = T2/Tc\n",
        "\n",
        "    alpha2 = (1 + k*(1 - np.sqrt(Tr2)))**2\n",
        "    a_alpha2 = a*alpha2\n",
        "    a_alphaij2 = np.sqrt(np.array([a_alpha2]).T.dot(np.array([a_alpha2])))*(1-binary_coeff)\n",
        "    a_alphamix2 = np.sum(np.array([z]).T.dot(np.array([z]))*a_alphaij2)\n",
        "    b2 = np.sum(z*b)\n",
        "\n",
        "    A2 = a_alphamix2*P2/((R*T2)**2)\n",
        "    B2 = b2*P2/(R*T2)\n",
        "\n",
        "    Z2 = cardan(A2,B2)\n",
        "    if np.size(Z2) > 2:\n",
        "      Z2 = min(Z2)\n",
        "    v2 = Z2 * R * T2 / P2\n",
        "\n",
        "    ds = cp_Tdt(HA_,HB_,HC_,HD_,T1,T2,P1,P2) + sdep(P2,Z2,T2,z) - sdep(P1,Z1,T1,z)\n",
        "    ds0 = ds\n",
        "    T0 = T2\n",
        "\n",
        "    T2 = T1 + 1.0\n",
        "    Tr2 = T2/Tc\n",
        "\n",
        "    alpha2 = (1 + k*(1 - np.sqrt(Tr2)))**2\n",
        "    a_alpha2 = a*alpha2\n",
        "    a_alphaij2 = np.sqrt(np.array([a_alpha2]).T.dot(np.array([a_alpha2])))*(1-binary_coeff)\n",
        "    a_alphamix2 = np.sum(np.array([z]).T.dot(np.array([z]))*a_alphaij2)\n",
        "    b2 = np.sum(z*b)\n",
        "\n",
        "    A2 = a_alphamix2*P2/((R*T2)**2)\n",
        "    B2 = b2*P2/(R*T2)\n",
        "\n",
        "    Z2 = cardan(A2,B2)\n",
        "    if np.size(Z2) > 2:\n",
        "      Z2 = min(Z2)\n",
        "    v2 = Z2 * R * T2 / P2\n",
        "\n",
        "    ds = cp_Tdt(HA_,HB_,HC_,HD_,T1,T2,P1,P2) + sdep(P2,Z2,T2,z) - sdep(P1,Z1,T1,z)\n",
        "\n",
        "    while abs(ds) > 1.0e-5:\n",
        "\n",
        "      T00 = T2\n",
        "      T2 = T2 - ds/((ds-ds0)/(T2-T0))\n",
        "      ds0 = ds\n",
        "      T0 = T00\n",
        "      Tr2 = T2/Tc\n",
        "\n",
        "      alpha2 = (1 + k*(1 - np.sqrt(Tr2)))**2\n",
        "      a_alpha2 = a*alpha2\n",
        "      a_alphaij2 = np.sqrt(np.array([a_alpha2]).T.dot(np.array([a_alpha2])))*(1-binary_coeff)\n",
        "      a_alphamix2 = np.sum(np.array([z]).T.dot(np.array([z]))*a_alphaij2)\n",
        "      b2 = np.sum(z*b)\n",
        "\n",
        "      A2 = a_alphamix2*P2/((R*T2)**2)\n",
        "      B2 = b2*P2/(R*T2)\n",
        "\n",
        "      Z2 = cardan(A2,B2)\n",
        "      if np.size(Z2) > 2:\n",
        "        Z2 = min(Z2)\n",
        "      v2 = Z2 * R * T2 / P2\n",
        "\n",
        "      ds = cp_Tdt(HA_,HB_,HC_,HD_,T1,T2,P1,P2) + sdep(P2,Z2,T2,z) - sdep(P1,Z1,T1,z)\n",
        "\n",
        "    print('T2 when 100% eff =',np.round(T2 - 273.15,4))\n",
        "    dh = cpdt(HA_,HB_,HC_,HD_,T1,T2) + hdep(P2,v2,T2,z) - hdep(P1,v1,T1,z)\n",
        "    print('Q =',np.round(dh,4),'kJ/kmol')\n",
        "    return(np.round(T2 - 273.15,4),np.round(dh,4))"
      ]
    },
    {
      "cell_type": "code",
      "execution_count": null,
      "id": "4516a4b9-9977-42b5-b45d-da38b7c9eb9f",
      "metadata": {
        "id": "4516a4b9-9977-42b5-b45d-da38b7c9eb9f",
        "outputId": "27055bf3-a7f0-41ab-80e0-7260087fe314"
      },
      "outputs": [
        {
          "name": "stdout",
          "output_type": "stream",
          "text": [
            "T2 when 100% eff = -49.9743\n",
            "Q = 7.7515 kJ/kmol\n"
          ]
        },
        {
          "data": {
            "text/plain": [
              "(-49.9743, 7.7515)"
            ]
          },
          "execution_count": 3,
          "metadata": {},
          "output_type": "execute_result"
        }
      ],
      "source": [
        "result = Cal_Pump(np.array([0.0, 0.0, 0.0, 0.5, 0.5]),1.0e5,-50 + 273.15,2.0e5)\n",
        "result[0],result[1]"
      ]
    },
    {
      "cell_type": "markdown",
      "id": "3062a351-ef3b-49d9-a56e-5fba800541d1",
      "metadata": {
        "jp-MarkdownHeadingCollapsed": true,
        "tags": [],
        "id": "3062a351-ef3b-49d9-a56e-5fba800541d1"
      },
      "source": [
        "# TEST "
      ]
    },
    {
      "cell_type": "code",
      "execution_count": null,
      "id": "8000b46e-bff9-43c3-a202-1e5f3db91f56",
      "metadata": {
        "id": "8000b46e-bff9-43c3-a202-1e5f3db91f56",
        "outputId": "c81ce60c-de53-4259-8200-e7a282b348fb"
      },
      "outputs": [
        {
          "name": "stdout",
          "output_type": "stream",
          "text": [
            "T2 when 100% eff = -49.9743\n",
            "Q = 7.7515 kJ/kmol\n",
            "T2 = -49.9743 ℃ W= 7.7515\n"
          ]
        }
      ],
      "source": [
        "# N2, C1, C2, C3, C4\n",
        "z = np.array([0.0, 0.0, 0.0, 0.5, 0.5])\n",
        "P1 = 1.0e5\n",
        "T1 = -50\n",
        "P2 = 2.0e5\n",
        "T2 , W = Cal_Pump(z,P1,T1+273.15,P2)\n",
        "print('T2 =', T2, '℃' , \"W=\" , W)"
      ]
    },
    {
      "cell_type": "markdown",
      "id": "87b43c50-f098-4641-855b-5be17f91f731",
      "metadata": {
        "jp-MarkdownHeadingCollapsed": true,
        "tags": [],
        "id": "87b43c50-f098-4641-855b-5be17f91f731"
      },
      "source": [
        "# Widget"
      ]
    },
    {
      "cell_type": "code",
      "execution_count": null,
      "id": "b16b2fd7-7d76-4ff5-a88e-f41678f12e1f",
      "metadata": {
        "id": "b16b2fd7-7d76-4ff5-a88e-f41678f12e1f"
      },
      "outputs": [],
      "source": [
        "Label1 = widgets.Label(\"Composition\")\n",
        "wComp1 = widgets.BoundedFloatText(\n",
        "    value=0.0,\n",
        "    min=0,\n",
        "    max=1.0,\n",
        "    step=0.1,\n",
        "    description='N2:',\n",
        "    disabled=False\n",
        ")\n",
        "wComp2 = widgets.BoundedFloatText(\n",
        "    value=0.0,\n",
        "    min=0,\n",
        "    max=1.0,\n",
        "    step=0.1,\n",
        "    description='C1:',\n",
        "    disabled=False\n",
        ")\n",
        "wComp3 = widgets.BoundedFloatText(\n",
        "    value=0.0,\n",
        "    min=0,\n",
        "    max=1.0,\n",
        "    step=0.1,\n",
        "    description='C2:',\n",
        "    disabled=False\n",
        ")\n",
        "wComp4 = widgets.BoundedFloatText(\n",
        "    value=0.5,\n",
        "    min=0,\n",
        "    max=1.0,\n",
        "    step=0.1,\n",
        "    description='C3:',\n",
        "    disabled=False\n",
        ")\n",
        "wComp5 = widgets.BoundedFloatText(\n",
        "    value=0.5,\n",
        "    min=0,\n",
        "    max=1.0,\n",
        "    step=0.1,\n",
        "    description='C4:',\n",
        "    disabled=False\n",
        ")\n",
        "wCompSum = widgets.BoundedFloatText(\n",
        "    value=wComp1.value+wComp2.value+wComp3.value+wComp4.value+wComp5.value,\n",
        "    min=0,\n",
        "    max=1.0,\n",
        "    step=0.1,\n",
        "    description='SUM:',\n",
        "    disabled=False\n",
        ")\n",
        "\n",
        "Label2 = widgets.Label(\"Input\")\n",
        "\n",
        "wInputPressure = widgets.BoundedFloatText(\n",
        "    value=1,\n",
        "    min=0,\n",
        "    max=300.0,\n",
        "    step=0.1,\n",
        "    description='P1 (bar) :',\n",
        "    disabled=False\n",
        ")\n",
        "wInputTemperature = widgets.BoundedFloatText(\n",
        "    value=-50,\n",
        "    min=-500,\n",
        "    max=500.0,\n",
        "    step=0.1,\n",
        "    description='T1 (C) :',\n",
        "    disabled=False\n",
        ")\n",
        "\n",
        "wOutputPressure = widgets.BoundedFloatText(\n",
        "    value=2,\n",
        "    min=0,\n",
        "    max=300.0,\n",
        "    step=0.1,\n",
        "    description='P2 (bar) :',\n",
        "    disabled=False\n",
        ")\n",
        "\n",
        "Label3 = widgets.Label(\"< ### Result ### >\")\n",
        "\n",
        "wOutputTemperature = widgets.BoundedFloatText(\n",
        "    value=0,\n",
        "    min=-500,\n",
        "    max=500.0,\n",
        "    step=0.1,\n",
        "    description='T2 (C) :',\n",
        "    disabled=False\n",
        ")\n",
        "\n",
        "wOutputEnergy = widgets.BoundedFloatText(\n",
        "    value=0,\n",
        "    min=-1000000,\n",
        "    max=1000000,\n",
        "    step=0.1,\n",
        "    description='W(KJ/Kmol) :',\n",
        "    disabled=False\n",
        ")\n",
        "\n",
        "\n",
        "btn = widgets.Button(description = \"Calculate\")\n",
        "lbl3 = widgets.Label()\n",
        "\n",
        "def Calculate_pump(a):\n",
        "    z = np.array([wComp1.value,wComp2.value,wComp3.value,wComp4.value,wComp5.value])\n",
        "    P1 = wInputPressure.value * 1e5\n",
        "    T1 = wInputTemperature.value + 273.15\n",
        "    P2 = wOutputPressure.value * 1e5\n",
        "    tTemp,tEnergy = Cal_Pump(z,P1,T1,P2)\n",
        "    wOutputTemperature.value = tTemp\n",
        "    wOutputEnergy.value = tEnergy\n"
      ]
    },
    {
      "cell_type": "markdown",
      "id": "afe18f3c-b8c4-41c7-9c65-3330e8893a97",
      "metadata": {
        "tags": [],
        "id": "afe18f3c-b8c4-41c7-9c65-3330e8893a97"
      },
      "source": [
        "# Pump ( Liquid )"
      ]
    },
    {
      "cell_type": "code",
      "execution_count": null,
      "id": "63fa117a-5a7e-411d-9f37-6db9c89662b7",
      "metadata": {
        "jupyter": {
          "source_hidden": true
        },
        "tags": [],
        "colab": {
          "referenced_widgets": [
            "4bd9175140894d2e928bfd09ea1f637c",
            "2694d7d0615f49919567a3722ea8d841",
            "7d1e27c2c92d422bba96fc3f73c1b34b",
            "241242dd8a6848d3a0363616c9414a75",
            "e7e91d53e0c7416fb94ec975c276583c",
            "f4a441c38a244d0e9a59f486e54a4dfe",
            "f6e94649c2ae409197b0d105304b4468",
            "2d114de7e8f9438e849156a05b950d02",
            "e87c2f2a87484f6f933657c13666e3b6",
            "c096a36c799b47c9ad6100c0b7195836",
            "56e0d764799745b9932bc5bb29d86a0d",
            "6b4bae78024444aa9c84e50ea71b64b0",
            "5c29d159ab034fed823c784f4f061bc6",
            "86b6d58258c84394b8869b20b56c8a0b",
            "13a931e7cbdb4ab58009aa2c88206681"
          ]
        },
        "id": "63fa117a-5a7e-411d-9f37-6db9c89662b7",
        "outputId": "b4a88c62-c25d-4a13-f0cb-22fd9f3ca112"
      },
      "outputs": [
        {
          "data": {
            "application/vnd.jupyter.widget-view+json": {
              "model_id": "4bd9175140894d2e928bfd09ea1f637c",
              "version_major": 2,
              "version_minor": 0
            },
            "text/plain": [
              "Label(value='### PUMP(Liquid) Calculation ###')"
            ]
          },
          "metadata": {},
          "output_type": "display_data"
        },
        {
          "data": {
            "application/vnd.jupyter.widget-view+json": {
              "model_id": "2694d7d0615f49919567a3722ea8d841",
              "version_major": 2,
              "version_minor": 0
            },
            "text/plain": [
              "Label(value='Composition')"
            ]
          },
          "metadata": {},
          "output_type": "display_data"
        },
        {
          "data": {
            "application/vnd.jupyter.widget-view+json": {
              "model_id": "7d1e27c2c92d422bba96fc3f73c1b34b",
              "version_major": 2,
              "version_minor": 0
            },
            "text/plain": [
              "BoundedFloatText(value=0.0, description='N2:', max=1.0, step=0.1)"
            ]
          },
          "metadata": {},
          "output_type": "display_data"
        },
        {
          "data": {
            "application/vnd.jupyter.widget-view+json": {
              "model_id": "241242dd8a6848d3a0363616c9414a75",
              "version_major": 2,
              "version_minor": 0
            },
            "text/plain": [
              "BoundedFloatText(value=0.0, description='C1:', max=1.0, step=0.1)"
            ]
          },
          "metadata": {},
          "output_type": "display_data"
        },
        {
          "data": {
            "application/vnd.jupyter.widget-view+json": {
              "model_id": "e7e91d53e0c7416fb94ec975c276583c",
              "version_major": 2,
              "version_minor": 0
            },
            "text/plain": [
              "BoundedFloatText(value=0.0, description='C2:', max=1.0, step=0.1)"
            ]
          },
          "metadata": {},
          "output_type": "display_data"
        },
        {
          "data": {
            "application/vnd.jupyter.widget-view+json": {
              "model_id": "f4a441c38a244d0e9a59f486e54a4dfe",
              "version_major": 2,
              "version_minor": 0
            },
            "text/plain": [
              "BoundedFloatText(value=0.5, description='C3:', max=1.0, step=0.1)"
            ]
          },
          "metadata": {},
          "output_type": "display_data"
        },
        {
          "data": {
            "application/vnd.jupyter.widget-view+json": {
              "model_id": "f6e94649c2ae409197b0d105304b4468",
              "version_major": 2,
              "version_minor": 0
            },
            "text/plain": [
              "BoundedFloatText(value=0.5, description='C4:', max=1.0, step=0.1)"
            ]
          },
          "metadata": {},
          "output_type": "display_data"
        },
        {
          "data": {
            "application/vnd.jupyter.widget-view+json": {
              "model_id": "2d114de7e8f9438e849156a05b950d02",
              "version_major": 2,
              "version_minor": 0
            },
            "text/plain": [
              "Label(value='Input')"
            ]
          },
          "metadata": {},
          "output_type": "display_data"
        },
        {
          "data": {
            "application/vnd.jupyter.widget-view+json": {
              "model_id": "e87c2f2a87484f6f933657c13666e3b6",
              "version_major": 2,
              "version_minor": 0
            },
            "text/plain": [
              "BoundedFloatText(value=1.0, description='P1 (bar) :', max=300.0, step=0.1)"
            ]
          },
          "metadata": {},
          "output_type": "display_data"
        },
        {
          "data": {
            "application/vnd.jupyter.widget-view+json": {
              "model_id": "c096a36c799b47c9ad6100c0b7195836",
              "version_major": 2,
              "version_minor": 0
            },
            "text/plain": [
              "BoundedFloatText(value=-50.0, description='T1 (C) :', max=500.0, min=-500.0, step=0.1)"
            ]
          },
          "metadata": {},
          "output_type": "display_data"
        },
        {
          "data": {
            "application/vnd.jupyter.widget-view+json": {
              "model_id": "56e0d764799745b9932bc5bb29d86a0d",
              "version_major": 2,
              "version_minor": 0
            },
            "text/plain": [
              "BoundedFloatText(value=2.0, description='P2 (bar) :', max=300.0, step=0.1)"
            ]
          },
          "metadata": {},
          "output_type": "display_data"
        },
        {
          "data": {
            "application/vnd.jupyter.widget-view+json": {
              "model_id": "6b4bae78024444aa9c84e50ea71b64b0",
              "version_major": 2,
              "version_minor": 0
            },
            "text/plain": [
              "Button(description='Calculate', style=ButtonStyle())"
            ]
          },
          "metadata": {},
          "output_type": "display_data"
        },
        {
          "data": {
            "application/vnd.jupyter.widget-view+json": {
              "model_id": "5c29d159ab034fed823c784f4f061bc6",
              "version_major": 2,
              "version_minor": 0
            },
            "text/plain": [
              "Label(value='< ### Result ### >')"
            ]
          },
          "metadata": {},
          "output_type": "display_data"
        },
        {
          "data": {
            "application/vnd.jupyter.widget-view+json": {
              "model_id": "86b6d58258c84394b8869b20b56c8a0b",
              "version_major": 2,
              "version_minor": 0
            },
            "text/plain": [
              "BoundedFloatText(value=0.0, description='T2 (C) :', max=500.0, min=-500.0, step=0.1)"
            ]
          },
          "metadata": {},
          "output_type": "display_data"
        },
        {
          "data": {
            "application/vnd.jupyter.widget-view+json": {
              "model_id": "13a931e7cbdb4ab58009aa2c88206681",
              "version_major": 2,
              "version_minor": 0
            },
            "text/plain": [
              "BoundedFloatText(value=0.0, description='W(KJ/Kmol) :', max=1000000.0, min=-1000000.0, step=0.1)"
            ]
          },
          "metadata": {},
          "output_type": "display_data"
        }
      ],
      "source": [
        "display(widgets.Label(\"### PUMP(Liquid) Calculation ###\"))\n",
        "display(Label1,wComp1,wComp2,wComp3,wComp4,wComp5)\n",
        "display(Label2,wInputPressure,wInputTemperature,wOutputPressure)\n",
        "display(btn)\n",
        "display(Label3,wOutputTemperature,wOutputEnergy)\n",
        "btn.on_click(Calculate_pump)"
      ]
    }
  ],
  "metadata": {
    "interpreter": {
      "hash": "fb4569285eef3a3450cb62085a5b1e0da4bce0af555edc33dcf29baf3acc1368"
    },
    "kernelspec": {
      "display_name": "Python 3.10.3 64-bit",
      "language": "python",
      "name": "python3"
    },
    "language_info": {
      "codemirror_mode": {
        "name": "ipython",
        "version": 3
      },
      "file_extension": ".py",
      "mimetype": "text/x-python",
      "name": "python",
      "nbconvert_exporter": "python",
      "pygments_lexer": "ipython3",
      "version": "3.10.3"
    },
    "colab": {
      "provenance": [],
      "collapsed_sections": []
    }
  },
  "nbformat": 4,
  "nbformat_minor": 5
}