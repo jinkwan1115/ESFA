{
  "cells": [
    {
      "cell_type": "markdown",
      "id": "3c27b36a-4aeb-49f0-9ccb-bef4089ed7ab",
      "metadata": {
        "jp-MarkdownHeadingCollapsed": true,
        "tags": [],
        "id": "3c27b36a-4aeb-49f0-9ccb-bef4089ed7ab"
      },
      "source": [
        "# Header"
      ]
    },
    {
      "cell_type": "code",
      "execution_count": null,
      "id": "631a061f-ec65-4fde-9f29-2bc2301892a2",
      "metadata": {
        "id": "631a061f-ec65-4fde-9f29-2bc2301892a2"
      },
      "outputs": [],
      "source": [
        "import numpy as np\n",
        "from ipywidgets import widgets\n",
        "from Functions.Properties_Functions import * "
      ]
    },
    {
      "cell_type": "markdown",
      "id": "6d0448c0-b4c2-49c6-b58c-fc566fba2fe8",
      "metadata": {
        "jp-MarkdownHeadingCollapsed": true,
        "tags": [],
        "id": "6d0448c0-b4c2-49c6-b58c-fc566fba2fe8"
      },
      "source": [
        "# Equipment Functions"
      ]
    },
    {
      "cell_type": "code",
      "execution_count": null,
      "id": "ee69fc2f-51d5-4b75-8cb0-c00f4e4d1b17",
      "metadata": {
        "id": "ee69fc2f-51d5-4b75-8cb0-c00f4e4d1b17"
      },
      "outputs": [],
      "source": [
        "def Cal_Compressor_Turbine(z,P1,T1,P2):\n",
        "    # Heat capacity coeff. for mixture\n",
        "    MW_ = np.sum(z*MW)\n",
        "    HA_ = np.sum(z*MW/MW_*HA)\n",
        "    HB_ = np.sum(z*MW/MW_*HB)\n",
        "    HC_ = np.sum(z*MW/MW_*HC)\n",
        "    HD_ = np.sum(z*MW/MW_*HD)\n",
        "\n",
        "\n",
        "    Tr1 = T1/Tc\n",
        "    alpha1 = (1 + k*(1 - np.sqrt(Tr1)))**2\n",
        "    a_alpha1 = a*alpha1\n",
        "    a_alphaij1 = np.sqrt(np.array([a_alpha1]).T.dot(np.array([a_alpha1])))*(1-binary_coeff)\n",
        "    a_alphamix1 = np.sum(np.array([z]).T.dot(np.array([z]))*a_alphaij1)\n",
        "    b1 = np.sum(z*b)\n",
        "\n",
        "    A1 = a_alphamix1*P1/((R*T1)**2)\n",
        "    B1 = b1*P1/(R*T1)\n",
        "\n",
        "    Z1 = cardan(A1,B1)\n",
        "    if np.size(Z1) > 2:\n",
        "      Z1 = max(Z1)\n",
        "    v1 = Z1 * R * T1 / P1\n",
        "\n",
        "\n",
        "    T2 = T1\n",
        "    Tr2 = T2/Tc\n",
        "\n",
        "    alpha2 = (1 + k*(1 - np.sqrt(Tr2)))**2\n",
        "    a_alpha2 = a*alpha2\n",
        "    a_alphaij2 = np.sqrt(np.array([a_alpha2]).T.dot(np.array([a_alpha2])))*(1-binary_coeff)\n",
        "    a_alphamix2 = np.sum(np.array([z]).T.dot(np.array([z]))*a_alphaij2)\n",
        "    b2 = np.sum(z*b)\n",
        "\n",
        "    A2 = a_alphamix2*P2/((R*T2)**2)\n",
        "    B2 = b2*P2/(R*T2)\n",
        "\n",
        "    Z2 = cardan(A2,B2)\n",
        "    if np.size(Z2) > 2:\n",
        "      Z2 = max(Z2)\n",
        "    v2 = Z2 * R * T2 / P2\n",
        "\n",
        "    ds = cp_Tdt(HA_,HB_,HC_,HD_,T1,T2,P1,P2) + sdep(P2,Z2,T2,z) - sdep(P1,Z1,T1,z)\n",
        "    ds0 = ds\n",
        "    T0 = T2\n",
        "\n",
        "    T2 = T1 + 1.0\n",
        "    Tr2 = T2/Tc\n",
        "\n",
        "    alpha2 = (1 + k*(1 - np.sqrt(Tr2)))**2\n",
        "    a_alpha2 = a*alpha2\n",
        "    a_alphaij2 = np.sqrt(np.array([a_alpha2]).T.dot(np.array([a_alpha2])))*(1-binary_coeff)\n",
        "    a_alphamix2 = np.sum(np.array([z]).T.dot(np.array([z]))*a_alphaij2)\n",
        "    b2 = np.sum(z*b)\n",
        "\n",
        "    A2 = a_alphamix2*P2/((R*T2)**2)\n",
        "    B2 = b2*P2/(R*T2)\n",
        "\n",
        "    Z2 = cardan(A2,B2)\n",
        "    if np.size(Z2) > 2:\n",
        "      Z2 = max(Z2)\n",
        "    v2 = Z2 * R * T2 / P2\n",
        "\n",
        "    ds = cp_Tdt(HA_,HB_,HC_,HD_,T1,T2,P1,P2) + sdep(P2,Z2,T2,z) - sdep(P1,Z1,T1,z)\n",
        "\n",
        "    while abs(ds) > 1.0e-5:\n",
        "\n",
        "      T00 = T2\n",
        "      T2 = T2 - ds/((ds-ds0)/(T2-T0))\n",
        "      ds0 = ds\n",
        "      T0 = T00\n",
        "      Tr2 = T2/Tc\n",
        "\n",
        "      alpha2 = (1 + k*(1 - np.sqrt(Tr2)))**2\n",
        "      a_alpha2 = a*alpha2\n",
        "      a_alphaij2 = np.sqrt(np.array([a_alpha2]).T.dot(np.array([a_alpha2])))*(1-binary_coeff)\n",
        "      a_alphamix2 = np.sum(np.array([z]).T.dot(np.array([z]))*a_alphaij2)\n",
        "      b2 = np.sum(z*b)\n",
        "\n",
        "      A2 = a_alphamix2*P2/((R*T2)**2)\n",
        "      B2 = b2*P2/(R*T2)\n",
        "\n",
        "      Z2 = cardan(A2,B2)\n",
        "      if np.size(Z2) > 2:\n",
        "        Z2 = max(Z2)\n",
        "      v2 = Z2 * R * T2 / P2\n",
        "\n",
        "      ds = cp_Tdt(HA_,HB_,HC_,HD_,T1,T2,P1,P2) + sdep(P2,Z2,T2,z) - sdep(P1,Z1,T1,z)\n",
        "    print('T2 when 100% eff =',np.round(T2 - 273.15,4))\n",
        "    dh = cpdt(HA_,HB_,HC_,HD_,T1,T2) + hdep(P2,v2,T2,z) - hdep(P1,v1,T1,z)\n",
        "    print('Q =',np.round(dh,4),'kJ/kmol')\n",
        "    print('Positive Q: Compressor, Negative Q: Turbine')\n",
        "    \n",
        "    return(np.round(T2 - 273.15,4),np.round(dh,4))"
      ]
    },
    {
      "cell_type": "code",
      "execution_count": null,
      "id": "4516a4b9-9977-42b5-b45d-da38b7c9eb9f",
      "metadata": {
        "id": "4516a4b9-9977-42b5-b45d-da38b7c9eb9f",
        "outputId": "d08bf41b-2450-4e7a-f875-f7d28d513b72"
      },
      "outputs": [
        {
          "name": "stdout",
          "output_type": "stream",
          "text": [
            "T2 when 100% eff = 173.0905\n",
            "Q = 7569.474 kJ/kmol\n",
            "Positive Q: Compressor, Negative Q: Turbine\n"
          ]
        },
        {
          "data": {
            "text/plain": [
              "(173.0905, 7569.474)"
            ]
          },
          "execution_count": 3,
          "metadata": {},
          "output_type": "execute_result"
        }
      ],
      "source": [
        "result = Cal_Compressor_Turbine(np.array([0.0, 0.0, 0.0, 0.5, 0.5]),1.0e5, 100 + 273.15,10.0e5)\n",
        "result[0],result[1]"
      ]
    },
    {
      "cell_type": "markdown",
      "id": "3062a351-ef3b-49d9-a56e-5fba800541d1",
      "metadata": {
        "jp-MarkdownHeadingCollapsed": true,
        "tags": [],
        "id": "3062a351-ef3b-49d9-a56e-5fba800541d1"
      },
      "source": [
        "# TEST "
      ]
    },
    {
      "cell_type": "code",
      "execution_count": null,
      "id": "8000b46e-bff9-43c3-a202-1e5f3db91f56",
      "metadata": {
        "id": "8000b46e-bff9-43c3-a202-1e5f3db91f56",
        "outputId": "cc96c1f8-adda-4bd0-d3d4-3640a5575dd2"
      },
      "outputs": [
        {
          "name": "stdout",
          "output_type": "stream",
          "text": [
            "T2 when 100% eff = 173.0905\n",
            "Q = 7569.474 kJ/kmol\n",
            "Positive Q: Compressor, Negative Q: Turbine\n",
            "T2 = 173.0905 ℃ W= 7569.474\n"
          ]
        }
      ],
      "source": [
        "# N2, C1, C2, C3, C4\n",
        "z = np.array([0.0, 0.0, 0.0, 0.5, 0.5])\n",
        "P1 = 1.0e5\n",
        "T1 = 100\n",
        "P2 = 10.0e5\n",
        "T2 , W = Cal_Compressor_Turbine(z,P1,T1+273.15,P2)\n",
        "print('T2 =', T2, '℃' , \"W=\" , W)"
      ]
    },
    {
      "cell_type": "markdown",
      "id": "87b43c50-f098-4641-855b-5be17f91f731",
      "metadata": {
        "jp-MarkdownHeadingCollapsed": true,
        "tags": [],
        "id": "87b43c50-f098-4641-855b-5be17f91f731"
      },
      "source": [
        "# Widget"
      ]
    },
    {
      "cell_type": "code",
      "execution_count": null,
      "id": "b16b2fd7-7d76-4ff5-a88e-f41678f12e1f",
      "metadata": {
        "id": "b16b2fd7-7d76-4ff5-a88e-f41678f12e1f"
      },
      "outputs": [],
      "source": [
        "Label1 = widgets.Label(\"Composition\")\n",
        "wComp1 = widgets.BoundedFloatText(\n",
        "    value=0.0,\n",
        "    min=0,\n",
        "    max=1.0,\n",
        "    step=0.1,\n",
        "    description='N2:',\n",
        "    disabled=False\n",
        ")\n",
        "wComp2 = widgets.BoundedFloatText(\n",
        "    value=0.0,\n",
        "    min=0,\n",
        "    max=1.0,\n",
        "    step=0.1,\n",
        "    description='C1:',\n",
        "    disabled=False\n",
        ")\n",
        "wComp3 = widgets.BoundedFloatText(\n",
        "    value=0.0,\n",
        "    min=0,\n",
        "    max=1.0,\n",
        "    step=0.1,\n",
        "    description='C2:',\n",
        "    disabled=False\n",
        ")\n",
        "wComp4 = widgets.BoundedFloatText(\n",
        "    value=0.5,\n",
        "    min=0,\n",
        "    max=1.0,\n",
        "    step=0.1,\n",
        "    description='C3:',\n",
        "    disabled=False\n",
        ")\n",
        "wComp5 = widgets.BoundedFloatText(\n",
        "    value=0.5,\n",
        "    min=0,\n",
        "    max=1.0,\n",
        "    step=0.1,\n",
        "    description='C4:',\n",
        "    disabled=False\n",
        ")\n",
        "wCompSum = widgets.BoundedFloatText(\n",
        "    value=wComp1.value+wComp2.value+wComp3.value+wComp4.value+wComp5.value,\n",
        "    min=0,\n",
        "    max=1.0,\n",
        "    step=0.1,\n",
        "    description='SUM:',\n",
        "    disabled=False\n",
        ")\n",
        "\n",
        "Label2 = widgets.Label(\"Input\")\n",
        "\n",
        "wInputPressure = widgets.BoundedFloatText(\n",
        "    value=1,\n",
        "    min=0,\n",
        "    max=300.0,\n",
        "    step=0.1,\n",
        "    description='P1 (bar) :',\n",
        "    disabled=False\n",
        ")\n",
        "wInputTemperature = widgets.BoundedFloatText(\n",
        "    value=100,\n",
        "    min=-500,\n",
        "    max=500.0,\n",
        "    step=0.1,\n",
        "    description='T1 (C) :',\n",
        "    disabled=False\n",
        ")\n",
        "\n",
        "wOutputPressure = widgets.BoundedFloatText(\n",
        "    value=10,\n",
        "    min=0,\n",
        "    max=300.0,\n",
        "    step=0.1,\n",
        "    description='P2 (bar) :',\n",
        "    disabled=False\n",
        ")\n",
        "\n",
        "Label3 = widgets.Label(\"< ### Result ### >\")\n",
        "\n",
        "wOutputTemperature = widgets.BoundedFloatText(\n",
        "    value=0,\n",
        "    min=-500,\n",
        "    max=500.0,\n",
        "    step=0.1,\n",
        "    description='T2 (C) :',\n",
        "    disabled=False\n",
        ")\n",
        "\n",
        "wOutputEnergy = widgets.BoundedFloatText(\n",
        "    value=0,\n",
        "    min=-1000000,\n",
        "    max=1000000,\n",
        "    step=0.1,\n",
        "    description='W(Q) (KJ/Kmol) :',\n",
        "    disabled=False\n",
        ")\n",
        "\n",
        "\n",
        "btn = widgets.Button(description = \"Calculate\")\n",
        "lbl3 = widgets.Label()\n",
        "\n",
        "def Calculate_Compressor_Turbine(a):\n",
        "    z = np.array([wComp1.value,wComp2.value,wComp3.value,wComp4.value,wComp5.value])\n",
        "    P1 = wInputPressure.value * 1e5\n",
        "    T1 = wInputTemperature.value + 273.15\n",
        "    P2 = wOutputPressure.value * 1e5\n",
        "    tTemp,tEnergy = Cal_Compressor_Turbine(z,P1,T1,P2)\n",
        "    wOutputTemperature.value = tTemp\n",
        "    wOutputEnergy.value = tEnergy\n"
      ]
    },
    {
      "cell_type": "markdown",
      "id": "afe18f3c-b8c4-41c7-9c65-3330e8893a97",
      "metadata": {
        "tags": [],
        "id": "afe18f3c-b8c4-41c7-9c65-3330e8893a97"
      },
      "source": [
        "# Compressor / Turbine ( Vapor )"
      ]
    },
    {
      "cell_type": "code",
      "execution_count": null,
      "id": "53ab8c53-ea4f-409a-a2ab-3e6576144e55",
      "metadata": {
        "jupyter": {
          "source_hidden": true
        },
        "tags": [],
        "colab": {
          "referenced_widgets": [
            "9994e5701fdc425c84c7baf16e48ea65",
            "28de4a013b4c42b2a4a0a0dbc438572f",
            "23e005e799374db393b821b26bbc95e1",
            "29d74080e7f34fe399d631fc3686ed7b",
            "0dd195aa4d4e489b939e36b32f62db06",
            "93ac170093fd4341bc20e93250a078dc",
            "3a36498aad004fc9bfebfb30cb8f397f",
            "5665e29cb839477e9aa8bad53528c96b",
            "c0074a05562d4fff88ba43cb29782b10",
            "f42224b88670434eace21ec04affe30d",
            "fb10810e3d1e4bda806f1621cf1d6349",
            "4d3025d56a3045aebadb6815f8d48b28",
            "1a3acb6e36b643358e52e029898e2682",
            "4e34b228fb7946cbbc7c2d6c0d58b9b3",
            "07c48ec40a9b40198e16779209899c72"
          ]
        },
        "id": "53ab8c53-ea4f-409a-a2ab-3e6576144e55",
        "outputId": "92d597a3-ac9d-4426-e9cc-5a251012685a"
      },
      "outputs": [
        {
          "data": {
            "application/vnd.jupyter.widget-view+json": {
              "model_id": "9994e5701fdc425c84c7baf16e48ea65",
              "version_major": 2,
              "version_minor": 0
            },
            "text/plain": [
              "Label(value='### Compressor / Turbine (Vapor) Calculation ###')"
            ]
          },
          "metadata": {},
          "output_type": "display_data"
        },
        {
          "data": {
            "application/vnd.jupyter.widget-view+json": {
              "model_id": "28de4a013b4c42b2a4a0a0dbc438572f",
              "version_major": 2,
              "version_minor": 0
            },
            "text/plain": [
              "Label(value='Composition')"
            ]
          },
          "metadata": {},
          "output_type": "display_data"
        },
        {
          "data": {
            "application/vnd.jupyter.widget-view+json": {
              "model_id": "23e005e799374db393b821b26bbc95e1",
              "version_major": 2,
              "version_minor": 0
            },
            "text/plain": [
              "BoundedFloatText(value=0.0, description='N2:', max=1.0, step=0.1)"
            ]
          },
          "metadata": {},
          "output_type": "display_data"
        },
        {
          "data": {
            "application/vnd.jupyter.widget-view+json": {
              "model_id": "29d74080e7f34fe399d631fc3686ed7b",
              "version_major": 2,
              "version_minor": 0
            },
            "text/plain": [
              "BoundedFloatText(value=0.0, description='C1:', max=1.0, step=0.1)"
            ]
          },
          "metadata": {},
          "output_type": "display_data"
        },
        {
          "data": {
            "application/vnd.jupyter.widget-view+json": {
              "model_id": "0dd195aa4d4e489b939e36b32f62db06",
              "version_major": 2,
              "version_minor": 0
            },
            "text/plain": [
              "BoundedFloatText(value=0.0, description='C2:', max=1.0, step=0.1)"
            ]
          },
          "metadata": {},
          "output_type": "display_data"
        },
        {
          "data": {
            "application/vnd.jupyter.widget-view+json": {
              "model_id": "93ac170093fd4341bc20e93250a078dc",
              "version_major": 2,
              "version_minor": 0
            },
            "text/plain": [
              "BoundedFloatText(value=0.5, description='C3:', max=1.0, step=0.1)"
            ]
          },
          "metadata": {},
          "output_type": "display_data"
        },
        {
          "data": {
            "application/vnd.jupyter.widget-view+json": {
              "model_id": "3a36498aad004fc9bfebfb30cb8f397f",
              "version_major": 2,
              "version_minor": 0
            },
            "text/plain": [
              "BoundedFloatText(value=0.5, description='C4:', max=1.0, step=0.1)"
            ]
          },
          "metadata": {},
          "output_type": "display_data"
        },
        {
          "data": {
            "application/vnd.jupyter.widget-view+json": {
              "model_id": "5665e29cb839477e9aa8bad53528c96b",
              "version_major": 2,
              "version_minor": 0
            },
            "text/plain": [
              "Label(value='Input')"
            ]
          },
          "metadata": {},
          "output_type": "display_data"
        },
        {
          "data": {
            "application/vnd.jupyter.widget-view+json": {
              "model_id": "c0074a05562d4fff88ba43cb29782b10",
              "version_major": 2,
              "version_minor": 0
            },
            "text/plain": [
              "BoundedFloatText(value=1.0, description='P1 (bar) :', max=300.0, step=0.1)"
            ]
          },
          "metadata": {},
          "output_type": "display_data"
        },
        {
          "data": {
            "application/vnd.jupyter.widget-view+json": {
              "model_id": "f42224b88670434eace21ec04affe30d",
              "version_major": 2,
              "version_minor": 0
            },
            "text/plain": [
              "BoundedFloatText(value=100.0, description='T1 (C) :', max=500.0, min=-500.0, step=0.1)"
            ]
          },
          "metadata": {},
          "output_type": "display_data"
        },
        {
          "data": {
            "application/vnd.jupyter.widget-view+json": {
              "model_id": "fb10810e3d1e4bda806f1621cf1d6349",
              "version_major": 2,
              "version_minor": 0
            },
            "text/plain": [
              "BoundedFloatText(value=10.0, description='P2 (bar) :', max=300.0, step=0.1)"
            ]
          },
          "metadata": {},
          "output_type": "display_data"
        },
        {
          "data": {
            "application/vnd.jupyter.widget-view+json": {
              "model_id": "4d3025d56a3045aebadb6815f8d48b28",
              "version_major": 2,
              "version_minor": 0
            },
            "text/plain": [
              "Button(description='Calculate', style=ButtonStyle())"
            ]
          },
          "metadata": {},
          "output_type": "display_data"
        },
        {
          "data": {
            "application/vnd.jupyter.widget-view+json": {
              "model_id": "1a3acb6e36b643358e52e029898e2682",
              "version_major": 2,
              "version_minor": 0
            },
            "text/plain": [
              "Label(value='< ### Result ### >')"
            ]
          },
          "metadata": {},
          "output_type": "display_data"
        },
        {
          "data": {
            "application/vnd.jupyter.widget-view+json": {
              "model_id": "4e34b228fb7946cbbc7c2d6c0d58b9b3",
              "version_major": 2,
              "version_minor": 0
            },
            "text/plain": [
              "BoundedFloatText(value=0.0, description='T2 (C) :', max=500.0, min=-500.0, step=0.1)"
            ]
          },
          "metadata": {},
          "output_type": "display_data"
        },
        {
          "data": {
            "application/vnd.jupyter.widget-view+json": {
              "model_id": "07c48ec40a9b40198e16779209899c72",
              "version_major": 2,
              "version_minor": 0
            },
            "text/plain": [
              "BoundedFloatText(value=0.0, description='W(Q) (KJ/Kmol) :', max=1000000.0, min=-1000000.0, step=0.1)"
            ]
          },
          "metadata": {},
          "output_type": "display_data"
        }
      ],
      "source": [
        "display(widgets.Label(\"### Compressor / Turbine (Vapor) Calculation ###\"))\n",
        "display(Label1,wComp1,wComp2,wComp3,wComp4,wComp5)\n",
        "display(Label2,wInputPressure,wInputTemperature,wOutputPressure)\n",
        "display(btn)\n",
        "display(Label3,wOutputTemperature,wOutputEnergy)\n",
        "btn.on_click(Calculate_Compressor_Turbine)"
      ]
    }
  ],
  "metadata": {
    "interpreter": {
      "hash": "fb4569285eef3a3450cb62085a5b1e0da4bce0af555edc33dcf29baf3acc1368"
    },
    "kernelspec": {
      "display_name": "Python 3.10.3 64-bit",
      "language": "python",
      "name": "python3"
    },
    "language_info": {
      "codemirror_mode": {
        "name": "ipython",
        "version": 3
      },
      "file_extension": ".py",
      "mimetype": "text/x-python",
      "name": "python",
      "nbconvert_exporter": "python",
      "pygments_lexer": "ipython3",
      "version": "3.10.3"
    },
    "colab": {
      "provenance": [],
      "collapsed_sections": []
    }
  },
  "nbformat": 4,
  "nbformat_minor": 5
}